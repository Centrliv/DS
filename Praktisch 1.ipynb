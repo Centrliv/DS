{
 "cells": [
  {
   "cell_type": "markdown",
   "id": "1d7236f7",
   "metadata": {},
   "source": [
    "**Задание 1**\n",
    "\n",
    "Дана переменная, в которой хранится слово из латинских букв. Напишите код, который выводит на экран:\n",
    "- среднюю букву, если число букв в слове нечетное;\n",
    "- две средних буквы, если число букв четное."
   ]
  },
  {
   "cell_type": "code",
   "execution_count": 3,
   "id": "049b30be",
   "metadata": {
    "scrolled": false
   },
   "outputs": [
    {
     "name": "stdout",
     "output_type": "stream",
     "text": [
      "t\n"
     ]
    }
   ],
   "source": [
    "word = \"testing\"\n",
    "len_word = len(word)\n",
    "if len_word % 2 == 0:\n",
    "    start = int(len_word / 2 - 1)\n",
    "    end = int(len_word  / 2 + 1)\n",
    "    print(word[start:end])\n",
    "else:\n",
    "    start = int(len_word / 2)\n",
    "    print(word[start])  "
   ]
  },
  {
   "cell_type": "markdown",
   "id": "f4710755",
   "metadata": {},
   "source": [
    "**Задание 2**\n",
    "\n",
    "Напишите программу, которая последовательно запрашивает у пользователя числа (по одному за раз) и после первого нуля выводит сумму всех ранее введенных чисел."
   ]
  },
  {
   "cell_type": "code",
   "execution_count": 187,
   "id": "0a4f8987",
   "metadata": {},
   "outputs": [
    {
     "name": "stdout",
     "output_type": "stream",
     "text": [
      "Введите число:\n",
      "1\n",
      "Введите число:\n",
      "4\n",
      "Введите число:\n",
      "6\n",
      "Введите число:\n",
      "0\n",
      "11.0\n"
     ]
    }
   ],
   "source": [
    "sum_number = 0\n",
    "number = int(input(\"Введите число:\\n\"))\n",
    "while number != 0:\n",
    "    sum_number += number\n",
    "    number = float(input(\"Введите число:\\n\"))\n",
    "print(sum_number)"
   ]
  },
  {
   "cell_type": "markdown",
   "id": "34ac4dd9",
   "metadata": {},
   "source": [
    "**Задание 3**\n",
    "\n",
    "Мы делаем  dating-сервиса, и у нас есть список парней и девушек.\n",
    "\n",
    "Выдвигаем гипотезу: лучшие рекомендации мы получим, если просто отсортируем имена по алфавиту и познакомим людей с одинаковыми индексами после сортировки! Но мы не будем никого знакомить, если кто-то может остаться без пары."
   ]
  },
  {
   "cell_type": "code",
   "execution_count": 190,
   "id": "ab69bb0f",
   "metadata": {},
   "outputs": [
    {
     "name": "stdout",
     "output_type": "stream",
     "text": [
      "Внимание, кто-то может остаться без пары!\n"
     ]
    }
   ],
   "source": [
    "boys = ['Peter', 'Alex', 'John', 'Arthur', 'Richard', 'Michael']\n",
    "girls = ['Kate', 'Liza', 'Kira', 'Emma', 'Trisha']\n",
    "boys.sort(), girls.sort()\n",
    "if len(boys) != len (girls):\n",
    "    print(\"Внимание, кто-то может остаться без пары!\")\n",
    "else:\n",
    "    print(\"Идеальные пары:\")\n",
    "    for boy, girl in zip(boys, girls):\n",
    "        print(boy, 'и', girl)        "
   ]
  },
  {
   "cell_type": "markdown",
   "id": "0dd10766",
   "metadata": {},
   "source": [
    "**Задание 4**\n",
    "\n",
    "У нас есть список, содержащий информацию о среднедневной температуре в Фаренгейтах за произвольный период по странам (структура данных в примере). Необходимо написать код, который рассчитает среднюю температуру за период в Цельсиях(!) для каждой страны."
   ]
  },
  {
   "cell_type": "code",
   "execution_count": 1,
   "id": "b8dbf81d",
   "metadata": {},
   "outputs": [
    {
     "name": "stdout",
     "output_type": "stream",
     "text": [
      "Средняя температура в странах:\n",
      "Thailand 23.9\n",
      "Germany 13.8\n",
      "Russia 3.7\n",
      "Poland 12.0\n"
     ]
    }
   ],
   "source": [
    "countries_temperature = [\n",
    "['Thailand', [75.2, 77, 78.8, 73.4, 68, 75.2, 77]],\n",
    "['Germany', [57.2, 55.4, 59, 59, 53.6]],\n",
    "['Russia', [35.6, 37.4, 39.2, 41, 42.8, 39.2, 35.6]],\n",
    "['Poland', [50, 50, 53.6, 57.2, 55.4, 55.4]]\n",
    "]\n",
    "print('Средняя температура в странах:')\n",
    "for country, temperature_array in countries_temperature:\n",
    "    sum_temperature = average_temperature = 0\n",
    "    sum_temperature = sum(temperature_array)\n",
    "    average_temperature = round(5 / 9 * (sum_temperature / len(temperature_array) - 32), 1)\n",
    "    print(country, average_temperature)"
   ]
  },
  {
   "cell_type": "markdown",
   "id": "088c08a3",
   "metadata": {},
   "source": [
    "**Задание 5**\n",
    "\n",
    "Дана переменная, в которой хранится словарь, содержащий гео-метки для каждого пользователя (пример структуры данных приведен ниже). Вам необходимо написать программу, которая выведет на экран множество уникальных гео-меток всех пользователей."
   ]
  },
  {
   "cell_type": "code",
   "execution_count": null,
   "id": "3eff805d",
   "metadata": {},
   "outputs": [],
   "source": [
    "ids = {'user1': [213, 213, 213, 15, 213],\n",
    "'user2': [54, 54, 119, 119, 119],\n",
    "'user3': [213, 98, 98, 35]}\n",
    "unique_geo_tags = []\n",
    "for tag in ids.values():\n",
    "    unique_geo_tags += tag\n",
    "print(set(unique_geo_tags))"
   ]
  },
  {
   "cell_type": "markdown",
   "id": "54edfbcc",
   "metadata": {},
   "source": [
    "**Задание 6**\n",
    "\n",
    "Дана переменная, в которой хранится список поисковых запросов пользователя (пример структуры данных приведен ниже). Вам необходимо написать программу, которая выведет на экран распределение количества слов в запросах в требуемом виде."
   ]
  },
  {
   "cell_type": "code",
   "execution_count": 2,
   "id": "7d50e182",
   "metadata": {
    "scrolled": false
   },
   "outputs": [
    {
     "name": "stdout",
     "output_type": "stream",
     "text": [
      "Поисковых запросов, содержащих 2 слов(а): 42.86 %\n",
      "Поисковых запросов, содержащих 3 слов(а): 57.14 %\n"
     ]
    }
   ],
   "source": [
    "queries = [\n",
    "'смотреть сериалы онлайн',\n",
    "'новости спорта',\n",
    "'афиша кино',\n",
    "'курс доллара',\n",
    "'сериалы этим летом',\n",
    "'курс по питону',\n",
    "'сериалы про спорт',\n",
    "]\n",
    "number_of_words = []\n",
    "for quantity in queries:\n",
    "    number_of_words.append(len(quantity.split()))\n",
    "for index in set(number_of_words):\n",
    "    print('Поисковых запросов, содержащих', index, 'слов(а):', round(number_of_words.count(index) / len(queries) * 100, 2), '%')       "
   ]
  },
  {
   "cell_type": "markdown",
   "id": "70a42981",
   "metadata": {},
   "source": [
    "**Задание 7**\n",
    "\n",
    "Дана переменная, в которой хранится информация о затратах и доходе рекламных кампаний по различным источникам. Необходимо дополнить исходную структуру показателем ROI, который рассчитаем по формуле: (revenue / cost - 1) * 100"
   ]
  },
  {
   "cell_type": "code",
   "execution_count": 182,
   "id": "a940a05b",
   "metadata": {},
   "outputs": [
    {
     "data": {
      "text/plain": [
       "{'vk': {'revenue': 103, 'cost': 98, 'ROI': 5.1},\n",
       " 'yandex': {'revenue': 179, 'cost': 153, 'ROI': 16.99},\n",
       " 'facebook': {'revenue': 103, 'cost': 110, 'ROI': -6.36},\n",
       " 'adwords': {'revenue': 35, 'cost': 34, 'ROI': 2.94},\n",
       " 'twitter': {'revenue': 11, 'cost': 24, 'ROI': -54.17}}"
      ]
     },
     "execution_count": 182,
     "metadata": {},
     "output_type": "execute_result"
    }
   ],
   "source": [
    "results = {\n",
    "'vk': {'revenue': 103, 'cost': 98},\n",
    "'yandex': {'revenue': 179, 'cost': 153},\n",
    "'facebook': {'revenue': 103, 'cost': 110},\n",
    "'adwords': {'revenue': 35, 'cost': 34},\n",
    "'twitter': {'revenue': 11, 'cost': 24},\n",
    "}\n",
    "for key_res, values_res in results.items():\n",
    "    values_res['ROI'] = round((values_res['revenue'] / values_res['cost'] - 1) * 100, 2)\n",
    "results"
   ]
  },
  {
   "cell_type": "markdown",
   "id": "1feda3b0",
   "metadata": {},
   "source": [
    "**Задание 8**\n",
    "\n",
    "Дана переменная, в которой хранится статистика рекламных каналов по объемам продаж (пример структуры данных приведен ниже). Напишите программу, которая возвращает название канала с максимальным объемом продаж."
   ]
  },
  {
   "cell_type": "code",
   "execution_count": 184,
   "id": "f8ce7cee",
   "metadata": {},
   "outputs": [
    {
     "name": "stdout",
     "output_type": "stream",
     "text": [
      "Максимальный объем продаж на рекламном канале: vk\n"
     ]
    }
   ],
   "source": [
    "stats = {'facebook': 55, 'yandex': 115, 'vk': 120, 'google': 99, 'email': 42, 'ok': 98}\n",
    "print('Максимальный объем продаж на рекламном канале:', max(stats, key=stats.get))    "
   ]
  }
 ],
 "metadata": {
  "kernelspec": {
   "display_name": "Python 3 (ipykernel)",
   "language": "python",
   "name": "python3"
  },
  "language_info": {
   "codemirror_mode": {
    "name": "ipython",
    "version": 3
   },
   "file_extension": ".py",
   "mimetype": "text/x-python",
   "name": "python",
   "nbconvert_exporter": "python",
   "pygments_lexer": "ipython3",
   "version": "3.7.13"
  }
 },
 "nbformat": 4,
 "nbformat_minor": 5
}
