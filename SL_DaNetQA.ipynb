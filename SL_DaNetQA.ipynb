{
  "nbformat": 4,
  "nbformat_minor": 0,
  "metadata": {
    "colab": {
      "name": "SL DaNetQA.ipynb",
      "provenance": [],
      "collapsed_sections": [],
      "mount_file_id": "1lw8_sCzkwbw2yNLX8JRUFHlLjSp9jKMR",
      "authorship_tag": "ABX9TyPttdyw+X3U1/wwrg8boXe1"
    },
    "kernelspec": {
      "name": "python3",
      "display_name": "Python 3"
    },
    "language_info": {
      "name": "python"
    }
  },
  "cells": [
    {
      "cell_type": "code",
      "source": [
        "!pip install pymorphy2"
      ],
      "metadata": {
        "colab": {
          "base_uri": "https://localhost:8080/"
        },
        "id": "bA6tt7OHvvXt",
        "outputId": "2d78dbfe-40f0-41ac-b72a-15a780459131"
      },
      "execution_count": 137,
      "outputs": [
        {
          "output_type": "stream",
          "name": "stdout",
          "text": [
            "Looking in indexes: https://pypi.org/simple, https://us-python.pkg.dev/colab-wheels/public/simple/\n",
            "Requirement already satisfied: pymorphy2 in /usr/local/lib/python3.7/dist-packages (0.9.1)\n",
            "Requirement already satisfied: dawg-python>=0.7.1 in /usr/local/lib/python3.7/dist-packages (from pymorphy2) (0.7.2)\n",
            "Requirement already satisfied: docopt>=0.6 in /usr/local/lib/python3.7/dist-packages (from pymorphy2) (0.6.2)\n",
            "Requirement already satisfied: pymorphy2-dicts-ru<3.0,>=2.4 in /usr/local/lib/python3.7/dist-packages (from pymorphy2) (2.4.417127.4579844)\n"
          ]
        }
      ]
    },
    {
      "cell_type": "code",
      "source": [
        " # библиотека обработки данных\n",
        "import pandas as pd\n",
        "\n",
        "# библиотека линейной алгебры\n",
        "import numpy as np \n",
        "\n",
        "# библиотека векторизации текста\n",
        "from sklearn.feature_extraction.text import TfidfVectorizer\n",
        "\n",
        "# библиотеки для классификации в моделях\n",
        "from sklearn.linear_model import LogisticRegression, SGDClassifier\n",
        "from sklearn.svm import LinearSVC\n",
        "\n",
        "# библиотеки настройки гиперпараметров\n",
        "from sklearn import model_selection\n",
        "from sklearn.model_selection import GridSearchCV, RandomizedSearchCV\n",
        "\n",
        "# библиотеки конвейера и оценщика\n",
        "from sklearn.pipeline import Pipeline\n",
        "from sklearn import metrics\n",
        "\n",
        "# библиотека для леммизации текста\n",
        "import pymorphy2\n",
        "from pymorphy2 import MorphAnalyzer\n",
        "\n",
        "# библиотека для обработки естественного языка\n",
        "import nltk\n",
        "from nltk.stem.snowball import SnowballStemmer\n",
        "\n",
        "# библиотеки для визуализации\n",
        "import matplotlib.pyplot as plt\n",
        "import seaborn as sns\n",
        "\n",
        "# библиотека регулярных выражений\n",
        "import re\n",
        "\n",
        "# библиотека для работы с .json-файлами\n",
        "import json\n",
        "\n",
        "# папка с датасетом\n",
        "PREFIX = 'DaNetQA/'"
      ],
      "metadata": {
        "id": "SzmsftSeVHQD"
      },
      "execution_count": 138,
      "outputs": []
    },
    {
      "cell_type": "code",
      "source": [
        "nltk.download('stopwords')\n",
        "nltk.download('averaged_perceptron_tagger_ru')"
      ],
      "metadata": {
        "colab": {
          "base_uri": "https://localhost:8080/"
        },
        "id": "V5fqLpftcOsl",
        "outputId": "edc34954-20a5-4550-d586-d25c1516b746"
      },
      "execution_count": 139,
      "outputs": [
        {
          "output_type": "stream",
          "name": "stderr",
          "text": [
            "[nltk_data] Downloading package stopwords to /root/nltk_data...\n",
            "[nltk_data]   Package stopwords is already up-to-date!\n",
            "[nltk_data] Downloading package averaged_perceptron_tagger_ru to\n",
            "[nltk_data]     /root/nltk_data...\n",
            "[nltk_data]   Package averaged_perceptron_tagger_ru is already up-to-\n",
            "[nltk_data]       date!\n"
          ]
        },
        {
          "output_type": "execute_result",
          "data": {
            "text/plain": [
              "True"
            ]
          },
          "metadata": {},
          "execution_count": 139
        }
      ]
    },
    {
      "cell_type": "code",
      "source": [
        "# загрузка датасета из файлов\n",
        "train_df = pd.read_json(PREFIX + 'train.jsonl', lines=True)\n",
        "test_df = pd.read_json(PREFIX + 'test.jsonl', lines=True)\n",
        "val_df = pd.read_json(PREFIX + 'val.jsonl', lines=True)"
      ],
      "metadata": {
        "id": "VvM-P9QFXC7V"
      },
      "execution_count": 140,
      "outputs": []
    },
    {
      "cell_type": "code",
      "source": [
        "# просмотр размера таблиц\n",
        "print(\"Количество строк = \", train_df.shape[0], \" \\nКоличество столбцов = \" , train_df.shape[1]) \n",
        "print(\"\\nКоличество строк = \", test_df.shape[0], \" \\nКоличество столбцов = \" , test_df.shape[1]) \n",
        "print(\"\\nКоличество строк = \", val_df.shape[0], \" \\nКоличество столбцов = \" , val_df.shape[1]) "
      ],
      "metadata": {
        "colab": {
          "base_uri": "https://localhost:8080/"
        },
        "id": "xmq0mLy1XnxK",
        "outputId": "9bbd4e97-0b50-4f7e-e95e-c55e1ef23a5d"
      },
      "execution_count": 141,
      "outputs": [
        {
          "output_type": "stream",
          "name": "stdout",
          "text": [
            "Количество строк =  1749  \n",
            "Количество столбцов =  4\n",
            "\n",
            "Количество строк =  805  \n",
            "Количество столбцов =  3\n",
            "\n",
            "Количество строк =  821  \n",
            "Количество столбцов =  4\n"
          ]
        }
      ]
    },
    {
      "cell_type": "code",
      "source": [
        "# просмотр списока столбцов\n",
        "print(train_df.columns)\n",
        "print(test_df.columns)\n",
        "print(val_df.columns)"
      ],
      "metadata": {
        "colab": {
          "base_uri": "https://localhost:8080/"
        },
        "id": "LO3aaP8mYpC5",
        "outputId": "b11fb1ca-a7a0-4dc6-b399-9083bfc0adbb"
      },
      "execution_count": 142,
      "outputs": [
        {
          "output_type": "stream",
          "name": "stdout",
          "text": [
            "Index(['question', 'passage', 'label', 'idx'], dtype='object')\n",
            "Index(['question', 'passage', 'idx'], dtype='object')\n",
            "Index(['question', 'passage', 'label', 'idx'], dtype='object')\n"
          ]
        }
      ]
    },
    {
      "cell_type": "code",
      "source": [
        "# просмотр первых 10 записей\n",
        "train_df.head(10)"
      ],
      "metadata": {
        "colab": {
          "base_uri": "https://localhost:8080/",
          "height": 363
        },
        "id": "V5PLRfZVaHD_",
        "outputId": "d47377a4-b533-4c86-dddd-76c716117c74"
      },
      "execution_count": 143,
      "outputs": [
        {
          "output_type": "execute_result",
          "data": {
            "text/plain": [
              "                                   question  \\\n",
              "0             Вднх - это выставочный центр?   \n",
              "1             Вднх - это выставочный центр?   \n",
              "2               Был ли джиган в black star?   \n",
              "3                   Xiaomi конкурент apple?   \n",
              "4         Был ли автомат калашникова в вов?   \n",
              "5       Может ли автомобиль ездить на газу?   \n",
              "6       Может ли автомобиль ездить на газу?   \n",
              "7  Был ли автомобиль принцессы дианы в дтп?   \n",
              "8         Есть ли в индийском океане акулы?   \n",
              "9         Есть ли в индийском океане акулы?   \n",
              "\n",
              "                                             passage  label  idx  \n",
              "0  «Вы́ставочный центр» — станция Московского мон...   True    0  \n",
              "1  Вы́ставка достиже́ний наро́дного хозя́йства  ,...   True    1  \n",
              "2  Вместе с этим треком они выступили на церемони...   True    2  \n",
              "3  Xiaomi — китайская компания, основанная в 2010...   True    3  \n",
              "4  Отметив некоторые недостатки и в целом удачную...  False    4  \n",
              "5  Автомобиль на природном газе — один из видов а...   True    5  \n",
              "6  Для работы на газообразных топливах транспортн...   True    6  \n",
              "7  Несмотря на продолжительные реанимационные поп...   True    7  \n",
              "8  Обыкновенная акула-молот, или молот-рыба  — од...   True    8  \n",
              "9  Ри́фовая аку́ла  — единственный вид рода рифов...   True    9  "
            ],
            "text/html": [
              "\n",
              "  <div id=\"df-a67070f7-74df-4cb4-94c3-fe20ad507d63\">\n",
              "    <div class=\"colab-df-container\">\n",
              "      <div>\n",
              "<style scoped>\n",
              "    .dataframe tbody tr th:only-of-type {\n",
              "        vertical-align: middle;\n",
              "    }\n",
              "\n",
              "    .dataframe tbody tr th {\n",
              "        vertical-align: top;\n",
              "    }\n",
              "\n",
              "    .dataframe thead th {\n",
              "        text-align: right;\n",
              "    }\n",
              "</style>\n",
              "<table border=\"1\" class=\"dataframe\">\n",
              "  <thead>\n",
              "    <tr style=\"text-align: right;\">\n",
              "      <th></th>\n",
              "      <th>question</th>\n",
              "      <th>passage</th>\n",
              "      <th>label</th>\n",
              "      <th>idx</th>\n",
              "    </tr>\n",
              "  </thead>\n",
              "  <tbody>\n",
              "    <tr>\n",
              "      <th>0</th>\n",
              "      <td>Вднх - это выставочный центр?</td>\n",
              "      <td>«Вы́ставочный центр» — станция Московского мон...</td>\n",
              "      <td>True</td>\n",
              "      <td>0</td>\n",
              "    </tr>\n",
              "    <tr>\n",
              "      <th>1</th>\n",
              "      <td>Вднх - это выставочный центр?</td>\n",
              "      <td>Вы́ставка достиже́ний наро́дного хозя́йства  ,...</td>\n",
              "      <td>True</td>\n",
              "      <td>1</td>\n",
              "    </tr>\n",
              "    <tr>\n",
              "      <th>2</th>\n",
              "      <td>Был ли джиган в black star?</td>\n",
              "      <td>Вместе с этим треком они выступили на церемони...</td>\n",
              "      <td>True</td>\n",
              "      <td>2</td>\n",
              "    </tr>\n",
              "    <tr>\n",
              "      <th>3</th>\n",
              "      <td>Xiaomi конкурент apple?</td>\n",
              "      <td>Xiaomi — китайская компания, основанная в 2010...</td>\n",
              "      <td>True</td>\n",
              "      <td>3</td>\n",
              "    </tr>\n",
              "    <tr>\n",
              "      <th>4</th>\n",
              "      <td>Был ли автомат калашникова в вов?</td>\n",
              "      <td>Отметив некоторые недостатки и в целом удачную...</td>\n",
              "      <td>False</td>\n",
              "      <td>4</td>\n",
              "    </tr>\n",
              "    <tr>\n",
              "      <th>5</th>\n",
              "      <td>Может ли автомобиль ездить на газу?</td>\n",
              "      <td>Автомобиль на природном газе — один из видов а...</td>\n",
              "      <td>True</td>\n",
              "      <td>5</td>\n",
              "    </tr>\n",
              "    <tr>\n",
              "      <th>6</th>\n",
              "      <td>Может ли автомобиль ездить на газу?</td>\n",
              "      <td>Для работы на газообразных топливах транспортн...</td>\n",
              "      <td>True</td>\n",
              "      <td>6</td>\n",
              "    </tr>\n",
              "    <tr>\n",
              "      <th>7</th>\n",
              "      <td>Был ли автомобиль принцессы дианы в дтп?</td>\n",
              "      <td>Несмотря на продолжительные реанимационные поп...</td>\n",
              "      <td>True</td>\n",
              "      <td>7</td>\n",
              "    </tr>\n",
              "    <tr>\n",
              "      <th>8</th>\n",
              "      <td>Есть ли в индийском океане акулы?</td>\n",
              "      <td>Обыкновенная акула-молот, или молот-рыба  — од...</td>\n",
              "      <td>True</td>\n",
              "      <td>8</td>\n",
              "    </tr>\n",
              "    <tr>\n",
              "      <th>9</th>\n",
              "      <td>Есть ли в индийском океане акулы?</td>\n",
              "      <td>Ри́фовая аку́ла  — единственный вид рода рифов...</td>\n",
              "      <td>True</td>\n",
              "      <td>9</td>\n",
              "    </tr>\n",
              "  </tbody>\n",
              "</table>\n",
              "</div>\n",
              "      <button class=\"colab-df-convert\" onclick=\"convertToInteractive('df-a67070f7-74df-4cb4-94c3-fe20ad507d63')\"\n",
              "              title=\"Convert this dataframe to an interactive table.\"\n",
              "              style=\"display:none;\">\n",
              "        \n",
              "  <svg xmlns=\"http://www.w3.org/2000/svg\" height=\"24px\"viewBox=\"0 0 24 24\"\n",
              "       width=\"24px\">\n",
              "    <path d=\"M0 0h24v24H0V0z\" fill=\"none\"/>\n",
              "    <path d=\"M18.56 5.44l.94 2.06.94-2.06 2.06-.94-2.06-.94-.94-2.06-.94 2.06-2.06.94zm-11 1L8.5 8.5l.94-2.06 2.06-.94-2.06-.94L8.5 2.5l-.94 2.06-2.06.94zm10 10l.94 2.06.94-2.06 2.06-.94-2.06-.94-.94-2.06-.94 2.06-2.06.94z\"/><path d=\"M17.41 7.96l-1.37-1.37c-.4-.4-.92-.59-1.43-.59-.52 0-1.04.2-1.43.59L10.3 9.45l-7.72 7.72c-.78.78-.78 2.05 0 2.83L4 21.41c.39.39.9.59 1.41.59.51 0 1.02-.2 1.41-.59l7.78-7.78 2.81-2.81c.8-.78.8-2.07 0-2.86zM5.41 20L4 18.59l7.72-7.72 1.47 1.35L5.41 20z\"/>\n",
              "  </svg>\n",
              "      </button>\n",
              "      \n",
              "  <style>\n",
              "    .colab-df-container {\n",
              "      display:flex;\n",
              "      flex-wrap:wrap;\n",
              "      gap: 12px;\n",
              "    }\n",
              "\n",
              "    .colab-df-convert {\n",
              "      background-color: #E8F0FE;\n",
              "      border: none;\n",
              "      border-radius: 50%;\n",
              "      cursor: pointer;\n",
              "      display: none;\n",
              "      fill: #1967D2;\n",
              "      height: 32px;\n",
              "      padding: 0 0 0 0;\n",
              "      width: 32px;\n",
              "    }\n",
              "\n",
              "    .colab-df-convert:hover {\n",
              "      background-color: #E2EBFA;\n",
              "      box-shadow: 0px 1px 2px rgba(60, 64, 67, 0.3), 0px 1px 3px 1px rgba(60, 64, 67, 0.15);\n",
              "      fill: #174EA6;\n",
              "    }\n",
              "\n",
              "    [theme=dark] .colab-df-convert {\n",
              "      background-color: #3B4455;\n",
              "      fill: #D2E3FC;\n",
              "    }\n",
              "\n",
              "    [theme=dark] .colab-df-convert:hover {\n",
              "      background-color: #434B5C;\n",
              "      box-shadow: 0px 1px 3px 1px rgba(0, 0, 0, 0.15);\n",
              "      filter: drop-shadow(0px 1px 2px rgba(0, 0, 0, 0.3));\n",
              "      fill: #FFFFFF;\n",
              "    }\n",
              "  </style>\n",
              "\n",
              "      <script>\n",
              "        const buttonEl =\n",
              "          document.querySelector('#df-a67070f7-74df-4cb4-94c3-fe20ad507d63 button.colab-df-convert');\n",
              "        buttonEl.style.display =\n",
              "          google.colab.kernel.accessAllowed ? 'block' : 'none';\n",
              "\n",
              "        async function convertToInteractive(key) {\n",
              "          const element = document.querySelector('#df-a67070f7-74df-4cb4-94c3-fe20ad507d63');\n",
              "          const dataTable =\n",
              "            await google.colab.kernel.invokeFunction('convertToInteractive',\n",
              "                                                     [key], {});\n",
              "          if (!dataTable) return;\n",
              "\n",
              "          const docLinkHtml = 'Like what you see? Visit the ' +\n",
              "            '<a target=\"_blank\" href=https://colab.research.google.com/notebooks/data_table.ipynb>data table notebook</a>'\n",
              "            + ' to learn more about interactive tables.';\n",
              "          element.innerHTML = '';\n",
              "          dataTable['output_type'] = 'display_data';\n",
              "          await google.colab.output.renderOutput(dataTable, element);\n",
              "          const docLink = document.createElement('div');\n",
              "          docLink.innerHTML = docLinkHtml;\n",
              "          element.appendChild(docLink);\n",
              "        }\n",
              "      </script>\n",
              "    </div>\n",
              "  </div>\n",
              "  "
            ]
          },
          "metadata": {},
          "execution_count": 143
        }
      ]
    },
    {
      "cell_type": "code",
      "source": [
        "test_df.head(10)"
      ],
      "metadata": {
        "colab": {
          "base_uri": "https://localhost:8080/",
          "height": 363
        },
        "id": "bG0Xxb-paj6C",
        "outputId": "9cadab9a-6f6a-46f1-9060-25eca32cd0bc"
      },
      "execution_count": 144,
      "outputs": [
        {
          "output_type": "execute_result",
          "data": {
            "text/plain": [
              "                                    question  \\\n",
              "0             Полезна ли ртуть с градусника?   \n",
              "1           Являются ли сапрофаги хищниками?   \n",
              "2              Водятся ли в индии крокодилы?   \n",
              "3                  Есть ли в батате крахмал?   \n",
              "4           Был ли человек в железной маске?   \n",
              "5          Существует ли на самом деле момо?   \n",
              "6  Были ли одоакр последним правителем рима?   \n",
              "7            Была ли украина в составе ссср?   \n",
              "8            Был ли ласточкин в 95 квартале?   \n",
              "9                  Есть ли у скумбрии чешуя?   \n",
              "\n",
              "                                             passage  idx  \n",
              "0  Отравления ртутью  — расстройства здоровья, св...    0  \n",
              "1  Фауна лесных почв — совокупность видов животны...    1  \n",
              "2  Болотный крокодил, или магер  — пресмыкающееся...    2  \n",
              "3  Клубневидно вздутые корни  весят до 15 кг, сод...    3  \n",
              "4  Остров Сент-Маргерит  — крупнейший из Лерински...    4  \n",
              "5  Мо́мо  — персонаж, получивший широкое распрост...    5  \n",
              "6  Они совпадали с таможенной линией и отчасти с ...    6  \n",
              "7  Во 2-й пол. 1940-х — 1-й пол. 1950-х годов про...    7  \n",
              "8  С 2019 года участник Лиги Смеха в составе кома...    8  \n",
              "9  Ску́мбрии  — род рыб семейства скумбриевых отр...    9  "
            ],
            "text/html": [
              "\n",
              "  <div id=\"df-21bec1d8-4e0e-4bbf-ae7f-3a9c56ba67ea\">\n",
              "    <div class=\"colab-df-container\">\n",
              "      <div>\n",
              "<style scoped>\n",
              "    .dataframe tbody tr th:only-of-type {\n",
              "        vertical-align: middle;\n",
              "    }\n",
              "\n",
              "    .dataframe tbody tr th {\n",
              "        vertical-align: top;\n",
              "    }\n",
              "\n",
              "    .dataframe thead th {\n",
              "        text-align: right;\n",
              "    }\n",
              "</style>\n",
              "<table border=\"1\" class=\"dataframe\">\n",
              "  <thead>\n",
              "    <tr style=\"text-align: right;\">\n",
              "      <th></th>\n",
              "      <th>question</th>\n",
              "      <th>passage</th>\n",
              "      <th>idx</th>\n",
              "    </tr>\n",
              "  </thead>\n",
              "  <tbody>\n",
              "    <tr>\n",
              "      <th>0</th>\n",
              "      <td>Полезна ли ртуть с градусника?</td>\n",
              "      <td>Отравления ртутью  — расстройства здоровья, св...</td>\n",
              "      <td>0</td>\n",
              "    </tr>\n",
              "    <tr>\n",
              "      <th>1</th>\n",
              "      <td>Являются ли сапрофаги хищниками?</td>\n",
              "      <td>Фауна лесных почв — совокупность видов животны...</td>\n",
              "      <td>1</td>\n",
              "    </tr>\n",
              "    <tr>\n",
              "      <th>2</th>\n",
              "      <td>Водятся ли в индии крокодилы?</td>\n",
              "      <td>Болотный крокодил, или магер  — пресмыкающееся...</td>\n",
              "      <td>2</td>\n",
              "    </tr>\n",
              "    <tr>\n",
              "      <th>3</th>\n",
              "      <td>Есть ли в батате крахмал?</td>\n",
              "      <td>Клубневидно вздутые корни  весят до 15 кг, сод...</td>\n",
              "      <td>3</td>\n",
              "    </tr>\n",
              "    <tr>\n",
              "      <th>4</th>\n",
              "      <td>Был ли человек в железной маске?</td>\n",
              "      <td>Остров Сент-Маргерит  — крупнейший из Лерински...</td>\n",
              "      <td>4</td>\n",
              "    </tr>\n",
              "    <tr>\n",
              "      <th>5</th>\n",
              "      <td>Существует ли на самом деле момо?</td>\n",
              "      <td>Мо́мо  — персонаж, получивший широкое распрост...</td>\n",
              "      <td>5</td>\n",
              "    </tr>\n",
              "    <tr>\n",
              "      <th>6</th>\n",
              "      <td>Были ли одоакр последним правителем рима?</td>\n",
              "      <td>Они совпадали с таможенной линией и отчасти с ...</td>\n",
              "      <td>6</td>\n",
              "    </tr>\n",
              "    <tr>\n",
              "      <th>7</th>\n",
              "      <td>Была ли украина в составе ссср?</td>\n",
              "      <td>Во 2-й пол. 1940-х — 1-й пол. 1950-х годов про...</td>\n",
              "      <td>7</td>\n",
              "    </tr>\n",
              "    <tr>\n",
              "      <th>8</th>\n",
              "      <td>Был ли ласточкин в 95 квартале?</td>\n",
              "      <td>С 2019 года участник Лиги Смеха в составе кома...</td>\n",
              "      <td>8</td>\n",
              "    </tr>\n",
              "    <tr>\n",
              "      <th>9</th>\n",
              "      <td>Есть ли у скумбрии чешуя?</td>\n",
              "      <td>Ску́мбрии  — род рыб семейства скумбриевых отр...</td>\n",
              "      <td>9</td>\n",
              "    </tr>\n",
              "  </tbody>\n",
              "</table>\n",
              "</div>\n",
              "      <button class=\"colab-df-convert\" onclick=\"convertToInteractive('df-21bec1d8-4e0e-4bbf-ae7f-3a9c56ba67ea')\"\n",
              "              title=\"Convert this dataframe to an interactive table.\"\n",
              "              style=\"display:none;\">\n",
              "        \n",
              "  <svg xmlns=\"http://www.w3.org/2000/svg\" height=\"24px\"viewBox=\"0 0 24 24\"\n",
              "       width=\"24px\">\n",
              "    <path d=\"M0 0h24v24H0V0z\" fill=\"none\"/>\n",
              "    <path d=\"M18.56 5.44l.94 2.06.94-2.06 2.06-.94-2.06-.94-.94-2.06-.94 2.06-2.06.94zm-11 1L8.5 8.5l.94-2.06 2.06-.94-2.06-.94L8.5 2.5l-.94 2.06-2.06.94zm10 10l.94 2.06.94-2.06 2.06-.94-2.06-.94-.94-2.06-.94 2.06-2.06.94z\"/><path d=\"M17.41 7.96l-1.37-1.37c-.4-.4-.92-.59-1.43-.59-.52 0-1.04.2-1.43.59L10.3 9.45l-7.72 7.72c-.78.78-.78 2.05 0 2.83L4 21.41c.39.39.9.59 1.41.59.51 0 1.02-.2 1.41-.59l7.78-7.78 2.81-2.81c.8-.78.8-2.07 0-2.86zM5.41 20L4 18.59l7.72-7.72 1.47 1.35L5.41 20z\"/>\n",
              "  </svg>\n",
              "      </button>\n",
              "      \n",
              "  <style>\n",
              "    .colab-df-container {\n",
              "      display:flex;\n",
              "      flex-wrap:wrap;\n",
              "      gap: 12px;\n",
              "    }\n",
              "\n",
              "    .colab-df-convert {\n",
              "      background-color: #E8F0FE;\n",
              "      border: none;\n",
              "      border-radius: 50%;\n",
              "      cursor: pointer;\n",
              "      display: none;\n",
              "      fill: #1967D2;\n",
              "      height: 32px;\n",
              "      padding: 0 0 0 0;\n",
              "      width: 32px;\n",
              "    }\n",
              "\n",
              "    .colab-df-convert:hover {\n",
              "      background-color: #E2EBFA;\n",
              "      box-shadow: 0px 1px 2px rgba(60, 64, 67, 0.3), 0px 1px 3px 1px rgba(60, 64, 67, 0.15);\n",
              "      fill: #174EA6;\n",
              "    }\n",
              "\n",
              "    [theme=dark] .colab-df-convert {\n",
              "      background-color: #3B4455;\n",
              "      fill: #D2E3FC;\n",
              "    }\n",
              "\n",
              "    [theme=dark] .colab-df-convert:hover {\n",
              "      background-color: #434B5C;\n",
              "      box-shadow: 0px 1px 3px 1px rgba(0, 0, 0, 0.15);\n",
              "      filter: drop-shadow(0px 1px 2px rgba(0, 0, 0, 0.3));\n",
              "      fill: #FFFFFF;\n",
              "    }\n",
              "  </style>\n",
              "\n",
              "      <script>\n",
              "        const buttonEl =\n",
              "          document.querySelector('#df-21bec1d8-4e0e-4bbf-ae7f-3a9c56ba67ea button.colab-df-convert');\n",
              "        buttonEl.style.display =\n",
              "          google.colab.kernel.accessAllowed ? 'block' : 'none';\n",
              "\n",
              "        async function convertToInteractive(key) {\n",
              "          const element = document.querySelector('#df-21bec1d8-4e0e-4bbf-ae7f-3a9c56ba67ea');\n",
              "          const dataTable =\n",
              "            await google.colab.kernel.invokeFunction('convertToInteractive',\n",
              "                                                     [key], {});\n",
              "          if (!dataTable) return;\n",
              "\n",
              "          const docLinkHtml = 'Like what you see? Visit the ' +\n",
              "            '<a target=\"_blank\" href=https://colab.research.google.com/notebooks/data_table.ipynb>data table notebook</a>'\n",
              "            + ' to learn more about interactive tables.';\n",
              "          element.innerHTML = '';\n",
              "          dataTable['output_type'] = 'display_data';\n",
              "          await google.colab.output.renderOutput(dataTable, element);\n",
              "          const docLink = document.createElement('div');\n",
              "          docLink.innerHTML = docLinkHtml;\n",
              "          element.appendChild(docLink);\n",
              "        }\n",
              "      </script>\n",
              "    </div>\n",
              "  </div>\n",
              "  "
            ]
          },
          "metadata": {},
          "execution_count": 144
        }
      ]
    },
    {
      "cell_type": "code",
      "source": [
        "val_df.head(10)"
      ],
      "metadata": {
        "colab": {
          "base_uri": "https://localhost:8080/",
          "height": 363
        },
        "id": "BbdhhWDFamQb",
        "outputId": "c7da787b-90c8-4acb-eca0-c2f8c1522b72"
      },
      "execution_count": 145,
      "outputs": [
        {
          "output_type": "execute_result",
          "data": {
            "text/plain": [
              "                                     question  \\\n",
              "0                      Есть ли вода на марсе?   \n",
              "1              Состоит ли англия в евросоюзе?   \n",
              "2  Действительно ли в ссср не было адвокатов?   \n",
              "3                       Была ли чума в оране?   \n",
              "4                     Был ли кетчуп в читосе?   \n",
              "5                 Был ли побег из алькатраса?   \n",
              "6                      Была ли русь под игом?   \n",
              "7                 Был ли мэллори на эвересте?   \n",
              "8                        Был ли ленин евреем?   \n",
              "9           Была ли дуня счастлива с минским?   \n",
              "\n",
              "                                             passage  label  idx  \n",
              "0  Гидросфера Марса — это совокупность водных зап...   True    0  \n",
              "1  В полночь с 31 января на 1 февраля 2020 года п...  False    1  \n",
              "2  Семён Львович Ария  — советский и российский ю...  False    2  \n",
              "3  Чума — это и абсурд, что осмысливается как фор...   True    3  \n",
              "4  Текущий каталог продукции размещен на сайте пр...   True    4  \n",
              "5  ФБР провело крупную операцию по розыску беглец...   True    5  \n",
              "6  Данная статья рассматривает ликвидацию ордынск...   True    6  \n",
              "7  Брита́нская экспеди́ция на Джомолу́нгму 1924 г...   True    7  \n",
              "8  По версии американского профессора еврейского ...   True    8  \n",
              "9  Уезжая, он предлагает подвезти Дуню до церкви ...  False    9  "
            ],
            "text/html": [
              "\n",
              "  <div id=\"df-6248321a-e2e6-4e29-bcbd-688ae9b2b5e8\">\n",
              "    <div class=\"colab-df-container\">\n",
              "      <div>\n",
              "<style scoped>\n",
              "    .dataframe tbody tr th:only-of-type {\n",
              "        vertical-align: middle;\n",
              "    }\n",
              "\n",
              "    .dataframe tbody tr th {\n",
              "        vertical-align: top;\n",
              "    }\n",
              "\n",
              "    .dataframe thead th {\n",
              "        text-align: right;\n",
              "    }\n",
              "</style>\n",
              "<table border=\"1\" class=\"dataframe\">\n",
              "  <thead>\n",
              "    <tr style=\"text-align: right;\">\n",
              "      <th></th>\n",
              "      <th>question</th>\n",
              "      <th>passage</th>\n",
              "      <th>label</th>\n",
              "      <th>idx</th>\n",
              "    </tr>\n",
              "  </thead>\n",
              "  <tbody>\n",
              "    <tr>\n",
              "      <th>0</th>\n",
              "      <td>Есть ли вода на марсе?</td>\n",
              "      <td>Гидросфера Марса — это совокупность водных зап...</td>\n",
              "      <td>True</td>\n",
              "      <td>0</td>\n",
              "    </tr>\n",
              "    <tr>\n",
              "      <th>1</th>\n",
              "      <td>Состоит ли англия в евросоюзе?</td>\n",
              "      <td>В полночь с 31 января на 1 февраля 2020 года п...</td>\n",
              "      <td>False</td>\n",
              "      <td>1</td>\n",
              "    </tr>\n",
              "    <tr>\n",
              "      <th>2</th>\n",
              "      <td>Действительно ли в ссср не было адвокатов?</td>\n",
              "      <td>Семён Львович Ария  — советский и российский ю...</td>\n",
              "      <td>False</td>\n",
              "      <td>2</td>\n",
              "    </tr>\n",
              "    <tr>\n",
              "      <th>3</th>\n",
              "      <td>Была ли чума в оране?</td>\n",
              "      <td>Чума — это и абсурд, что осмысливается как фор...</td>\n",
              "      <td>True</td>\n",
              "      <td>3</td>\n",
              "    </tr>\n",
              "    <tr>\n",
              "      <th>4</th>\n",
              "      <td>Был ли кетчуп в читосе?</td>\n",
              "      <td>Текущий каталог продукции размещен на сайте пр...</td>\n",
              "      <td>True</td>\n",
              "      <td>4</td>\n",
              "    </tr>\n",
              "    <tr>\n",
              "      <th>5</th>\n",
              "      <td>Был ли побег из алькатраса?</td>\n",
              "      <td>ФБР провело крупную операцию по розыску беглец...</td>\n",
              "      <td>True</td>\n",
              "      <td>5</td>\n",
              "    </tr>\n",
              "    <tr>\n",
              "      <th>6</th>\n",
              "      <td>Была ли русь под игом?</td>\n",
              "      <td>Данная статья рассматривает ликвидацию ордынск...</td>\n",
              "      <td>True</td>\n",
              "      <td>6</td>\n",
              "    </tr>\n",
              "    <tr>\n",
              "      <th>7</th>\n",
              "      <td>Был ли мэллори на эвересте?</td>\n",
              "      <td>Брита́нская экспеди́ция на Джомолу́нгму 1924 г...</td>\n",
              "      <td>True</td>\n",
              "      <td>7</td>\n",
              "    </tr>\n",
              "    <tr>\n",
              "      <th>8</th>\n",
              "      <td>Был ли ленин евреем?</td>\n",
              "      <td>По версии американского профессора еврейского ...</td>\n",
              "      <td>True</td>\n",
              "      <td>8</td>\n",
              "    </tr>\n",
              "    <tr>\n",
              "      <th>9</th>\n",
              "      <td>Была ли дуня счастлива с минским?</td>\n",
              "      <td>Уезжая, он предлагает подвезти Дуню до церкви ...</td>\n",
              "      <td>False</td>\n",
              "      <td>9</td>\n",
              "    </tr>\n",
              "  </tbody>\n",
              "</table>\n",
              "</div>\n",
              "      <button class=\"colab-df-convert\" onclick=\"convertToInteractive('df-6248321a-e2e6-4e29-bcbd-688ae9b2b5e8')\"\n",
              "              title=\"Convert this dataframe to an interactive table.\"\n",
              "              style=\"display:none;\">\n",
              "        \n",
              "  <svg xmlns=\"http://www.w3.org/2000/svg\" height=\"24px\"viewBox=\"0 0 24 24\"\n",
              "       width=\"24px\">\n",
              "    <path d=\"M0 0h24v24H0V0z\" fill=\"none\"/>\n",
              "    <path d=\"M18.56 5.44l.94 2.06.94-2.06 2.06-.94-2.06-.94-.94-2.06-.94 2.06-2.06.94zm-11 1L8.5 8.5l.94-2.06 2.06-.94-2.06-.94L8.5 2.5l-.94 2.06-2.06.94zm10 10l.94 2.06.94-2.06 2.06-.94-2.06-.94-.94-2.06-.94 2.06-2.06.94z\"/><path d=\"M17.41 7.96l-1.37-1.37c-.4-.4-.92-.59-1.43-.59-.52 0-1.04.2-1.43.59L10.3 9.45l-7.72 7.72c-.78.78-.78 2.05 0 2.83L4 21.41c.39.39.9.59 1.41.59.51 0 1.02-.2 1.41-.59l7.78-7.78 2.81-2.81c.8-.78.8-2.07 0-2.86zM5.41 20L4 18.59l7.72-7.72 1.47 1.35L5.41 20z\"/>\n",
              "  </svg>\n",
              "      </button>\n",
              "      \n",
              "  <style>\n",
              "    .colab-df-container {\n",
              "      display:flex;\n",
              "      flex-wrap:wrap;\n",
              "      gap: 12px;\n",
              "    }\n",
              "\n",
              "    .colab-df-convert {\n",
              "      background-color: #E8F0FE;\n",
              "      border: none;\n",
              "      border-radius: 50%;\n",
              "      cursor: pointer;\n",
              "      display: none;\n",
              "      fill: #1967D2;\n",
              "      height: 32px;\n",
              "      padding: 0 0 0 0;\n",
              "      width: 32px;\n",
              "    }\n",
              "\n",
              "    .colab-df-convert:hover {\n",
              "      background-color: #E2EBFA;\n",
              "      box-shadow: 0px 1px 2px rgba(60, 64, 67, 0.3), 0px 1px 3px 1px rgba(60, 64, 67, 0.15);\n",
              "      fill: #174EA6;\n",
              "    }\n",
              "\n",
              "    [theme=dark] .colab-df-convert {\n",
              "      background-color: #3B4455;\n",
              "      fill: #D2E3FC;\n",
              "    }\n",
              "\n",
              "    [theme=dark] .colab-df-convert:hover {\n",
              "      background-color: #434B5C;\n",
              "      box-shadow: 0px 1px 3px 1px rgba(0, 0, 0, 0.15);\n",
              "      filter: drop-shadow(0px 1px 2px rgba(0, 0, 0, 0.3));\n",
              "      fill: #FFFFFF;\n",
              "    }\n",
              "  </style>\n",
              "\n",
              "      <script>\n",
              "        const buttonEl =\n",
              "          document.querySelector('#df-6248321a-e2e6-4e29-bcbd-688ae9b2b5e8 button.colab-df-convert');\n",
              "        buttonEl.style.display =\n",
              "          google.colab.kernel.accessAllowed ? 'block' : 'none';\n",
              "\n",
              "        async function convertToInteractive(key) {\n",
              "          const element = document.querySelector('#df-6248321a-e2e6-4e29-bcbd-688ae9b2b5e8');\n",
              "          const dataTable =\n",
              "            await google.colab.kernel.invokeFunction('convertToInteractive',\n",
              "                                                     [key], {});\n",
              "          if (!dataTable) return;\n",
              "\n",
              "          const docLinkHtml = 'Like what you see? Visit the ' +\n",
              "            '<a target=\"_blank\" href=https://colab.research.google.com/notebooks/data_table.ipynb>data table notebook</a>'\n",
              "            + ' to learn more about interactive tables.';\n",
              "          element.innerHTML = '';\n",
              "          dataTable['output_type'] = 'display_data';\n",
              "          await google.colab.output.renderOutput(dataTable, element);\n",
              "          const docLink = document.createElement('div');\n",
              "          docLink.innerHTML = docLinkHtml;\n",
              "          element.appendChild(docLink);\n",
              "        }\n",
              "      </script>\n",
              "    </div>\n",
              "  </div>\n",
              "  "
            ]
          },
          "metadata": {},
          "execution_count": 145
        }
      ]
    },
    {
      "cell_type": "code",
      "source": [
        "desc = train_df.groupby('label').describe()\n",
        "plt.bar('False', desc['idx']['count'][0], label=\"False answer\", color='red')\n",
        "plt.bar('True', desc['idx']['count'][1], label=\"True answer\", color='green')\n",
        "plt.legend()\n",
        "plt.ylabel('Number of questions')\n",
        "plt.title('Question groups')\n",
        "plt.show()\n",
        "\n",
        "print('Question description\\n')\n",
        "print(desc)\n",
        "print()\n",
        "print(train_df.describe())"
      ],
      "metadata": {
        "colab": {
          "base_uri": "https://localhost:8080/",
          "height": 576
        },
        "id": "vzZA0t9PoFHi",
        "outputId": "126afa57-5d3f-4b05-d3e8-9f2dd1415f63"
      },
      "execution_count": 146,
      "outputs": [
        {
          "output_type": "display_data",
          "data": {
            "text/plain": [
              "<Figure size 432x288 with 1 Axes>"
            ],
            "image/png": "[encoded data removed]"
          },
          "metadata": {
            "needs_background": "light"
          }
        },
        {
          "output_type": "stream",
          "name": "stdout",
          "text": [
            "Question description\n",
            "\n",
            "          idx                                                              \n",
            "        count         mean         std  min     25%     50%     75%     max\n",
            "label                                                                      \n",
            "False   688.0  1075.418605  497.737217  4.0  716.75  1224.5  1474.5  1748.0\n",
            "True   1061.0   744.035815  466.365516  0.0  365.00   690.0  1053.0  1749.0\n",
            "\n",
            "               idx\n",
            "count  1749.000000\n",
            "mean    874.391081\n",
            "std     505.449777\n",
            "min       0.000000\n",
            "25%     437.000000\n",
            "50%     874.000000\n",
            "75%    1312.000000\n",
            "max    1749.000000\n"
          ]
        }
      ]
    },
    {
      "cell_type": "code",
      "source": [
        "desc = val_df.groupby('label').describe()\n",
        "plt.bar('False', desc['idx']['count'][0], label=\"False answer\", color='red')\n",
        "plt.bar('True', desc['idx']['count'][1], label=\"True answer\", color='green')\n",
        "plt.legend()\n",
        "plt.ylabel('Number of questions')\n",
        "plt.title('Question groups')\n",
        "plt.show()\n",
        "\n",
        "print('Question description\\n')\n",
        "print(desc)\n",
        "print()\n",
        "print(val_df.describe())"
      ],
      "metadata": {
        "colab": {
          "base_uri": "https://localhost:8080/",
          "height": 576
        },
        "id": "G2TCAZNDrHr9",
        "outputId": "d1b78244-d9e0-4d18-a8d7-a0608d4c8c28"
      },
      "execution_count": 147,
      "outputs": [
        {
          "output_type": "display_data",
          "data": {
            "text/plain": [
              "<Figure size 432x288 with 1 Axes>"
            ],
            "image/png": "[encoded data removed]"
          },
          "metadata": {
            "needs_background": "light"
          }
        },
        {
          "output_type": "stream",
          "name": "stdout",
          "text": [
            "Question description\n",
            "\n",
            "         idx                                                          \n",
            "       count        mean         std  min     25%    50%    75%    max\n",
            "label                                                                 \n",
            "False  409.0  399.674817  247.240475  1.0  180.00  391.0  625.0  818.0\n",
            "True   412.0  420.250000  226.517684  0.0  238.25  421.5  610.5  820.0\n",
            "\n",
            "              idx\n",
            "count  821.000000\n",
            "mean   410.000000\n",
            "std    237.146579\n",
            "min      0.000000\n",
            "25%    205.000000\n",
            "50%    410.000000\n",
            "75%    615.000000\n",
            "max    820.000000\n"
          ]
        }
      ]
    },
    {
      "cell_type": "code",
      "source": [
        "fig, (ax1,ax2) = plt.subplots(1,2,figsize=(10,5))\n",
        "\n",
        "ax1.hist(train_df[train_df['label']==False]['question'].str.len() +\n",
        "         train_df[train_df['label']==False]['passage'].str.len(), color='red')\n",
        "ax1.set_title('False answer')\n",
        "\n",
        "ax2.hist(train_df[train_df['label']==True]['question'].str.len() +\n",
        "         train_df[train_df['label']==True]['passage'].str.len(), color='green')\n",
        "ax2.set_title('True answer')\n",
        "\n",
        "fig.suptitle('Characters in question and passage')\n",
        "plt.show()"
      ],
      "metadata": {
        "colab": {
          "base_uri": "https://localhost:8080/",
          "height": 356
        },
        "id": "Pa6ModS0xJl0",
        "outputId": "b064956a-6f6d-40b1-aa21-5f5badf42556"
      },
      "execution_count": 148,
      "outputs": [
        {
          "output_type": "display_data",
          "data": {
            "text/plain": [
              "<Figure size 720x360 with 2 Axes>"
            ],
            "image/png": "[encoded data removed]"
          },
          "metadata": {
            "needs_background": "light"
          }
        }
      ]
    },
    {
      "cell_type": "code",
      "source": [
        "fig, (ax1,ax2) = plt.subplots(1,2,figsize=(10,5))\n",
        "\n",
        "ax1.hist(val_df[val_df['label']==False]['question'].str.len() +\n",
        "         val_df[val_df['label']==False]['passage'].str.len(), color='red')\n",
        "ax1.set_title('False answer')\n",
        "\n",
        "ax2.hist(val_df[val_df['label']==True]['question'].str.len() +\n",
        "         val_df[val_df['label']==True]['passage'].str.len(), color='green')\n",
        "ax2.set_title('True answer')\n",
        "\n",
        "fig.suptitle('Characters in question and passage')\n",
        "plt.show()"
      ],
      "metadata": {
        "colab": {
          "base_uri": "https://localhost:8080/",
          "height": 356
        },
        "id": "ktmts7U6uxmI",
        "outputId": "df6b4e72-99d1-4cd6-d1e1-ea5ae9e7628a"
      },
      "execution_count": 149,
      "outputs": [
        {
          "output_type": "display_data",
          "data": {
            "text/plain": [
              "<Figure size 720x360 with 2 Axes>"
            ],
            "image/png": "[encoded data removed]"
          },
          "metadata": {
            "needs_background": "light"
          }
        }
      ]
    },
    {
      "cell_type": "code",
      "source": [
        "def build_features(dataframe):\n",
        "  dataframe[\"text\"] = dataframe[\"question\"] + ' ' +  dataframe[\"passage\"]\n",
        "  dataframe.drop(columns=['idx', 'question', 'passage'], inplace=True) \n",
        "  return dataframe\n",
        "\n",
        "def cleanText(string):\n",
        "  string = string.lower()\n",
        "  string = str.replace(string,'Ё','е')\n",
        "  string = str.replace(string,'ё','е')\n",
        "  string = re.sub('[/́/g]', '', string) \n",
        "  prog = re.compile('[А-Яа-яA-Za-z]+')   \n",
        "  words = prog.findall(string.lower())\n",
        "\n",
        "  functionalPos = {'CONJ', 'PRCL'}\n",
        "  words = [w for w, pos in nltk.pos_tag(words, lang='rus') if pos not in functionalPos]\n",
        "\n",
        "  stopwords = nltk.corpus.stopwords.words('russian')\n",
        "  morph = MorphAnalyzer()\n",
        "\n",
        "  tokens = []\n",
        "  for token in words:\n",
        "    if token and token not in stopwords:\n",
        "      token = token.strip()\n",
        "      token = morph.normal_forms(token)[0]          \n",
        "      tokens.append(token)\n",
        "\n",
        "  return ' '.join(list(tokens))"
      ],
      "metadata": {
        "id": "0lXNGiAac3bQ"
      },
      "execution_count": 150,
      "outputs": []
    },
    {
      "cell_type": "code",
      "source": [
        "train_df_f = build_features(train_df)\n",
        "test_df_f = build_features(test_df)\n",
        "val_df_f = build_features(val_df)\n",
        "\n",
        "X_train = list(map(cleanText, np.array(train_df_f.text.values)))\n",
        "y_train = train_df.label.astype(int).values\n",
        "\n",
        "X_test = list(map(cleanText, np.array(val_df_f.text.values)))\n",
        "y_test = val_df.label.astype(int).values\n",
        "\n",
        "X_pred = list(map(cleanText, np.array(test_df_f.text.values)))"
      ],
      "metadata": {
        "id": "wUjrt0cOdQIq"
      },
      "execution_count": 151,
      "outputs": []
    },
    {
      "cell_type": "code",
      "source": [
        "clf_pipeline = Pipeline(\n",
        "            [(\"vectorizer\", TfidfVectorizer(use_idf=True)),\n",
        "            (\"classifier\", LinearSVC())]\n",
        "        )\n",
        "\n",
        "clf_pipeline.fit(X_train, y_train)"
      ],
      "metadata": {
        "colab": {
          "base_uri": "https://localhost:8080/"
        },
        "id": "4x26eKzCddG3",
        "outputId": "d3e7daaa-9c4b-4795-a7a7-6e04d59cc536"
      },
      "execution_count": 152,
      "outputs": [
        {
          "output_type": "execute_result",
          "data": {
            "text/plain": [
              "Pipeline(steps=[('vectorizer', TfidfVectorizer()), ('classifier', LinearSVC())])"
            ]
          },
          "metadata": {},
          "execution_count": 152
        }
      ]
    },
    {
      "cell_type": "code",
      "source": [
        "cm = metrics.confusion_matrix(y_test, clf_pipeline.predict(X_test))\n",
        "\n",
        "def plotConfusionMatrix(cm):\n",
        "  fig = plt.figure(figsize=(7,7))\n",
        "  sns.heatmap(cm, annot=True, fmt=\"d\")\n",
        "  plt.title('Confusion Matrix')\n",
        "  plt.ylabel('True label')\n",
        "  plt.xlabel('Predicted label')\n",
        "  return None\n",
        "\n",
        "plotConfusionMatrix(cm)"
      ],
      "metadata": {
        "colab": {
          "base_uri": "https://localhost:8080/",
          "height": 458
        },
        "id": "ZqoYsBrD7VBt",
        "outputId": "6c4574a5-a4e9-4ef6-f7b4-449b756c142a"
      },
      "execution_count": 153,
      "outputs": [
        {
          "output_type": "display_data",
          "data": {
            "text/plain": [
              "<Figure size 504x504 with 2 Axes>"
            ],
            "image/png": "[encoded data removed]"
          },
          "metadata": {
            "needs_background": "light"
          }
        }
      ]
    },
    {
      "cell_type": "code",
      "source": [
        "print(metrics.classification_report(y_test, clf_pipeline.predict(X_test)))\n",
        "accuracy_base = metrics.accuracy_score(y_test, clf_pipeline.predict(X_test))"
      ],
      "metadata": {
        "colab": {
          "base_uri": "https://localhost:8080/"
        },
        "id": "GYqNZ7nhmnFN",
        "outputId": "1e601db8-dea1-4f2b-a13e-7b3d1b25f877"
      },
      "execution_count": 154,
      "outputs": [
        {
          "output_type": "stream",
          "name": "stdout",
          "text": [
            "              precision    recall  f1-score   support\n",
            "\n",
            "           0       0.62      0.27      0.37       409\n",
            "           1       0.53      0.83      0.65       412\n",
            "\n",
            "    accuracy                           0.55       821\n",
            "   macro avg       0.57      0.55      0.51       821\n",
            "weighted avg       0.57      0.55      0.51       821\n",
            "\n"
          ]
        }
      ]
    },
    {
      "cell_type": "code",
      "source": [
        "parameters = {\n",
        "              'vectorizer__max_features': (10**3, 10**4),\n",
        "              'vectorizer__ngram_range': ((1, 2),(2, 3)),\n",
        "              'classifier__penalty': ('l1','l2'),\n",
        "              'classifier__C': (range(1,10,2)),\n",
        "             }\n",
        "\n",
        "gs_clf = GridSearchCV(clf_pipeline, parameters, scoring='accuracy', cv = 4, n_jobs=-1)\n",
        "gs_clf.fit(X_train, y_train)"
      ],
      "metadata": {
        "id": "irP8V_pDmzxz"
      },
      "execution_count": null,
      "outputs": []
    },
    {
      "cell_type": "code",
      "source": [
        "cm = metrics.confusion_matrix(y_test, gs_clf.predict(X_test))\n",
        "plotConfusionMatrix(cm)"
      ],
      "metadata": {
        "colab": {
          "base_uri": "https://localhost:8080/",
          "height": 458
        },
        "id": "IQLCMqKfA0Kv",
        "outputId": "6882342e-46b1-4577-e4db-8b0e8f9ea192"
      },
      "execution_count": 156,
      "outputs": [
        {
          "output_type": "display_data",
          "data": {
            "text/plain": [
              "<Figure size 504x504 with 2 Axes>"
            ],
            "image/png": "[encoded data removed]"
          },
          "metadata": {
            "needs_background": "light"
          }
        }
      ]
    },
    {
      "cell_type": "code",
      "source": [
        "print(metrics.classification_report(y_test, gs_clf.predict(X_test)))\n",
        "accuracy_gsLSVC = metrics.accuracy_score(y_test, gs_clf.predict(X_test))"
      ],
      "metadata": {
        "colab": {
          "base_uri": "https://localhost:8080/"
        },
        "id": "JL8E_lnKnCcS",
        "outputId": "bcd92394-fca8-4f71-d13c-1ab460ac4ae9"
      },
      "execution_count": 157,
      "outputs": [
        {
          "output_type": "stream",
          "name": "stdout",
          "text": [
            "              precision    recall  f1-score   support\n",
            "\n",
            "           0       0.56      0.26      0.35       409\n",
            "           1       0.52      0.80      0.63       412\n",
            "\n",
            "    accuracy                           0.53       821\n",
            "   macro avg       0.54      0.53      0.49       821\n",
            "weighted avg       0.54      0.53      0.49       821\n",
            "\n"
          ]
        }
      ]
    },
    {
      "cell_type": "code",
      "source": [
        "parameters = {\n",
        "              'vectorizer__ngram_range': [(1, 2),(1, 3)],\n",
        "              'vectorizer__min_df': [0.,.2,.4,.6],\n",
        "              'classifier__penalty': ('l1','l2'),\n",
        "              'classifier__C': (range(1,10,2)),\n",
        "             }\n",
        "\n",
        "clf_pipeline_LogitReg = Pipeline(\n",
        "            [(\"vectorizer\", TfidfVectorizer(use_idf=True)),\n",
        "            (\"classifier\", LogisticRegression())]\n",
        "        )\n",
        "\n",
        "rndgs_clf_LogitReg = RandomizedSearchCV(clf_pipeline_LogitReg, parameters, scoring='accuracy', cv = 4, n_jobs=-1)\n",
        "rndgs_clf_LogitReg.fit(X_train, y_train)"
      ],
      "metadata": {
        "id": "sviouMjqnYVT"
      },
      "execution_count": null,
      "outputs": []
    },
    {
      "cell_type": "code",
      "source": [
        "cm = metrics.confusion_matrix(y_test, rndgs_clf_LogitReg.predict(X_test))\n",
        "plotConfusionMatrix(cm)"
      ],
      "metadata": {
        "colab": {
          "base_uri": "https://localhost:8080/",
          "height": 458
        },
        "id": "00DPFGHCAnwa",
        "outputId": "09458574-1b69-4849-d9a0-9e5ac4b28ff8"
      },
      "execution_count": 169,
      "outputs": [
        {
          "output_type": "display_data",
          "data": {
            "text/plain": [
              "<Figure size 504x504 with 2 Axes>"
            ],
            "image/png": "[encoded data removed]"
          },
          "metadata": {
            "needs_background": "light"
          }
        }
      ]
    },
    {
      "cell_type": "code",
      "source": [
        "print(metrics.classification_report(y_test, rndgs_clf_LogitReg.predict(X_test)))\n",
        "accuracy_rndLogR = metrics.accuracy_score(y_test, rndgs_clf_LogitReg.predict(X_test))"
      ],
      "metadata": {
        "colab": {
          "base_uri": "https://localhost:8080/"
        },
        "id": "hMKey9lQoC10",
        "outputId": "0e3f06ed-3f5b-4e99-85b9-05fd3b3070d7"
      },
      "execution_count": 160,
      "outputs": [
        {
          "output_type": "stream",
          "name": "stdout",
          "text": [
            "              precision    recall  f1-score   support\n",
            "\n",
            "           0       0.74      0.16      0.26       409\n",
            "           1       0.53      0.94      0.68       412\n",
            "\n",
            "    accuracy                           0.55       821\n",
            "   macro avg       0.63      0.55      0.47       821\n",
            "weighted avg       0.63      0.55      0.47       821\n",
            "\n"
          ]
        }
      ]
    },
    {
      "cell_type": "code",
      "source": [
        "parameters = {\n",
        "              'vectorizer__max_features': (10**2, 10**3),\n",
        "              'vectorizer__ngram_range': [(1, 2),(1, 3)],\n",
        "              'vectorizer__min_df': [0.,.2,.4,.6,.8],\n",
        "              'classifier__penalty': ('l1','l2'),\n",
        "              'classifier__C': (range(1,10,2)),\n",
        "             }\n",
        "\n",
        "clf_pipeline_LogitReg = Pipeline(\n",
        "            [(\"vectorizer\", TfidfVectorizer(use_idf=True)),\n",
        "            (\"classifier\", LogisticRegression())]\n",
        "        )\n",
        "\n",
        "rndGS_LogR_Adj = RandomizedSearchCV(clf_pipeline_LogitReg, parameters, scoring='accuracy', cv = 4, n_jobs=-1)\n",
        "rndGS_LogR_Adj.fit(X_train, y_train)"
      ],
      "metadata": {
        "id": "AFGjKpKVoGQ8"
      },
      "execution_count": null,
      "outputs": []
    },
    {
      "cell_type": "code",
      "source": [
        "cm = metrics.confusion_matrix(y_test, rndGS_LogR_Adj.predict(X_test))\n",
        "plotConfusionMatrix(cm)"
      ],
      "metadata": {
        "colab": {
          "base_uri": "https://localhost:8080/",
          "height": 458
        },
        "id": "IP2Satp5G4Pd",
        "outputId": "ab512160-bdfe-47f4-cb75-143293a8f65e"
      },
      "execution_count": 183,
      "outputs": [
        {
          "output_type": "display_data",
          "data": {
            "text/plain": [
              "<Figure size 504x504 with 2 Axes>"
            ],
            "image/png": "[encoded data removed]"
          },
          "metadata": {
            "needs_background": "light"
          }
        }
      ]
    },
    {
      "cell_type": "code",
      "source": [
        "print(metrics.classification_report(y_test, rndGS_LogR_Adj.predict(X_test)))\n",
        "accuracy_rndLogR_2 = metrics.accuracy_score(y_test, rndGS_LogR_Adj.predict(X_test))"
      ],
      "metadata": {
        "colab": {
          "base_uri": "https://localhost:8080/"
        },
        "id": "X4ckc3q6oOSL",
        "outputId": "39acbbe4-7d7d-4aaa-8670-6857be759284"
      },
      "execution_count": 184,
      "outputs": [
        {
          "output_type": "stream",
          "name": "stdout",
          "text": [
            "              precision    recall  f1-score   support\n",
            "\n",
            "           0       0.58      0.20      0.30       409\n",
            "           1       0.52      0.86      0.65       412\n",
            "\n",
            "    accuracy                           0.53       821\n",
            "   macro avg       0.55      0.53      0.47       821\n",
            "weighted avg       0.55      0.53      0.47       821\n",
            "\n"
          ]
        }
      ]
    },
    {
      "cell_type": "code",
      "source": [
        "results = pd.DataFrame([accuracy_base, accuracy_gsLSVC, accuracy_rndLogR, accuracy_rndLogR_2], index=['BaseLine', 'GS_LSVC', 'rndGS_LogR', 'rndGS_LogR_Adj'], columns=['accuracy_score'])\n",
        "results"
      ],
      "metadata": {
        "colab": {
          "base_uri": "https://localhost:8080/",
          "height": 175
        },
        "id": "YV2EvbrFoSw6",
        "outputId": "2c3f2da0-ff31-4d35-fe7d-f587817ed35f"
      },
      "execution_count": 185,
      "outputs": [
        {
          "output_type": "execute_result",
          "data": {
            "text/plain": [
              "                accuracy_score\n",
              "BaseLine              0.551766\n",
              "GS_LSVC               0.529842\n",
              "rndGS_LogR            0.552984\n",
              "rndGS_LogR_Adj        0.529842"
            ],
            "text/html": [
              "\n",
              "  <div id=\"df-7187a412-c40e-4a87-b3cc-bc6ff36a39b9\">\n",
              "    <div class=\"colab-df-container\">\n",
              "      <div>\n",
              "<style scoped>\n",
              "    .dataframe tbody tr th:only-of-type {\n",
              "        vertical-align: middle;\n",
              "    }\n",
              "\n",
              "    .dataframe tbody tr th {\n",
              "        vertical-align: top;\n",
              "    }\n",
              "\n",
              "    .dataframe thead th {\n",
              "        text-align: right;\n",
              "    }\n",
              "</style>\n",
              "<table border=\"1\" class=\"dataframe\">\n",
              "  <thead>\n",
              "    <tr style=\"text-align: right;\">\n",
              "      <th></th>\n",
              "      <th>accuracy_score</th>\n",
              "    </tr>\n",
              "  </thead>\n",
              "  <tbody>\n",
              "    <tr>\n",
              "      <th>BaseLine</th>\n",
              "      <td>0.551766</td>\n",
              "    </tr>\n",
              "    <tr>\n",
              "      <th>GS_LSVC</th>\n",
              "      <td>0.529842</td>\n",
              "    </tr>\n",
              "    <tr>\n",
              "      <th>rndGS_LogR</th>\n",
              "      <td>0.552984</td>\n",
              "    </tr>\n",
              "    <tr>\n",
              "      <th>rndGS_LogR_Adj</th>\n",
              "      <td>0.529842</td>\n",
              "    </tr>\n",
              "  </tbody>\n",
              "</table>\n",
              "</div>\n",
              "      <button class=\"colab-df-convert\" onclick=\"convertToInteractive('df-7187a412-c40e-4a87-b3cc-bc6ff36a39b9')\"\n",
              "              title=\"Convert this dataframe to an interactive table.\"\n",
              "              style=\"display:none;\">\n",
              "        \n",
              "  <svg xmlns=\"http://www.w3.org/2000/svg\" height=\"24px\"viewBox=\"0 0 24 24\"\n",
              "       width=\"24px\">\n",
              "    <path d=\"M0 0h24v24H0V0z\" fill=\"none\"/>\n",
              "    <path d=\"M18.56 5.44l.94 2.06.94-2.06 2.06-.94-2.06-.94-.94-2.06-.94 2.06-2.06.94zm-11 1L8.5 8.5l.94-2.06 2.06-.94-2.06-.94L8.5 2.5l-.94 2.06-2.06.94zm10 10l.94 2.06.94-2.06 2.06-.94-2.06-.94-.94-2.06-.94 2.06-2.06.94z\"/><path d=\"M17.41 7.96l-1.37-1.37c-.4-.4-.92-.59-1.43-.59-.52 0-1.04.2-1.43.59L10.3 9.45l-7.72 7.72c-.78.78-.78 2.05 0 2.83L4 21.41c.39.39.9.59 1.41.59.51 0 1.02-.2 1.41-.59l7.78-7.78 2.81-2.81c.8-.78.8-2.07 0-2.86zM5.41 20L4 18.59l7.72-7.72 1.47 1.35L5.41 20z\"/>\n",
              "  </svg>\n",
              "      </button>\n",
              "      \n",
              "  <style>\n",
              "    .colab-df-container {\n",
              "      display:flex;\n",
              "      flex-wrap:wrap;\n",
              "      gap: 12px;\n",
              "    }\n",
              "\n",
              "    .colab-df-convert {\n",
              "      background-color: #E8F0FE;\n",
              "      border: none;\n",
              "      border-radius: 50%;\n",
              "      cursor: pointer;\n",
              "      display: none;\n",
              "      fill: #1967D2;\n",
              "      height: 32px;\n",
              "      padding: 0 0 0 0;\n",
              "      width: 32px;\n",
              "    }\n",
              "\n",
              "    .colab-df-convert:hover {\n",
              "      background-color: #E2EBFA;\n",
              "      box-shadow: 0px 1px 2px rgba(60, 64, 67, 0.3), 0px 1px 3px 1px rgba(60, 64, 67, 0.15);\n",
              "      fill: #174EA6;\n",
              "    }\n",
              "\n",
              "    [theme=dark] .colab-df-convert {\n",
              "      background-color: #3B4455;\n",
              "      fill: #D2E3FC;\n",
              "    }\n",
              "\n",
              "    [theme=dark] .colab-df-convert:hover {\n",
              "      background-color: #434B5C;\n",
              "      box-shadow: 0px 1px 3px 1px rgba(0, 0, 0, 0.15);\n",
              "      filter: drop-shadow(0px 1px 2px rgba(0, 0, 0, 0.3));\n",
              "      fill: #FFFFFF;\n",
              "    }\n",
              "  </style>\n",
              "\n",
              "      <script>\n",
              "        const buttonEl =\n",
              "          document.querySelector('#df-7187a412-c40e-4a87-b3cc-bc6ff36a39b9 button.colab-df-convert');\n",
              "        buttonEl.style.display =\n",
              "          google.colab.kernel.accessAllowed ? 'block' : 'none';\n",
              "\n",
              "        async function convertToInteractive(key) {\n",
              "          const element = document.querySelector('#df-7187a412-c40e-4a87-b3cc-bc6ff36a39b9');\n",
              "          const dataTable =\n",
              "            await google.colab.kernel.invokeFunction('convertToInteractive',\n",
              "                                                     [key], {});\n",
              "          if (!dataTable) return;\n",
              "\n",
              "          const docLinkHtml = 'Like what you see? Visit the ' +\n",
              "            '<a target=\"_blank\" href=https://colab.research.google.com/notebooks/data_table.ipynb>data table notebook</a>'\n",
              "            + ' to learn more about interactive tables.';\n",
              "          element.innerHTML = '';\n",
              "          dataTable['output_type'] = 'display_data';\n",
              "          await google.colab.output.renderOutput(dataTable, element);\n",
              "          const docLink = document.createElement('div');\n",
              "          docLink.innerHTML = docLinkHtml;\n",
              "          element.appendChild(docLink);\n",
              "        }\n",
              "      </script>\n",
              "    </div>\n",
              "  </div>\n",
              "  "
            ]
          },
          "metadata": {},
          "execution_count": 185
        }
      ]
    },
    {
      "cell_type": "code",
      "source": [
        "test_df[\"predict\"] = gs_clf.predict(X_pred).astype(bool)\n",
        "test_df.to_json(PREFIX + 'pred.jsonl', orient='records', lines=True)\n",
        "test_df"
      ],
      "metadata": {
        "colab": {
          "base_uri": "https://localhost:8080/",
          "height": 424
        },
        "id": "qqQwouuKli4h",
        "outputId": "343364af-e4c4-43bd-af6a-4b9eadacfd8b"
      },
      "execution_count": 187,
      "outputs": [
        {
          "output_type": "execute_result",
          "data": {
            "text/plain": [
              "                                                  text  predict\n",
              "0    Полезна ли ртуть с градусника? Отравления ртут...     True\n",
              "1    Являются ли сапрофаги хищниками? Фауна лесных ...     True\n",
              "2    Водятся ли в индии крокодилы? Болотный крокоди...     True\n",
              "3    Есть ли в батате крахмал? Клубневидно вздутые ...    False\n",
              "4    Был ли человек в железной маске? Остров Сент-М...     True\n",
              "..                                                 ...      ...\n",
              "800  Была ли у джихангира наложница? Хюрре́м Хасеки...     True\n",
              "801  Правда ли у животных нет групп крови? Гру́ппа ...    False\n",
              "802  Все ли погибли на титанике? Элизабет Глэдис Ми...     True\n",
              "803  Есть ли в хлебе белок? Эта статья о группе бел...     True\n",
              "804  Правда ли астану переименовали? Нур-Султа́н  —...     True\n",
              "\n",
              "[805 rows x 2 columns]"
            ],
            "text/html": [
              "\n",
              "  <div id=\"df-4573eccf-847b-408f-b8de-0c312be0e56b\">\n",
              "    <div class=\"colab-df-container\">\n",
              "      <div>\n",
              "<style scoped>\n",
              "    .dataframe tbody tr th:only-of-type {\n",
              "        vertical-align: middle;\n",
              "    }\n",
              "\n",
              "    .dataframe tbody tr th {\n",
              "        vertical-align: top;\n",
              "    }\n",
              "\n",
              "    .dataframe thead th {\n",
              "        text-align: right;\n",
              "    }\n",
              "</style>\n",
              "<table border=\"1\" class=\"dataframe\">\n",
              "  <thead>\n",
              "    <tr style=\"text-align: right;\">\n",
              "      <th></th>\n",
              "      <th>text</th>\n",
              "      <th>predict</th>\n",
              "    </tr>\n",
              "  </thead>\n",
              "  <tbody>\n",
              "    <tr>\n",
              "      <th>0</th>\n",
              "      <td>Полезна ли ртуть с градусника? Отравления ртут...</td>\n",
              "      <td>True</td>\n",
              "    </tr>\n",
              "    <tr>\n",
              "      <th>1</th>\n",
              "      <td>Являются ли сапрофаги хищниками? Фауна лесных ...</td>\n",
              "      <td>True</td>\n",
              "    </tr>\n",
              "    <tr>\n",
              "      <th>2</th>\n",
              "      <td>Водятся ли в индии крокодилы? Болотный крокоди...</td>\n",
              "      <td>True</td>\n",
              "    </tr>\n",
              "    <tr>\n",
              "      <th>3</th>\n",
              "      <td>Есть ли в батате крахмал? Клубневидно вздутые ...</td>\n",
              "      <td>False</td>\n",
              "    </tr>\n",
              "    <tr>\n",
              "      <th>4</th>\n",
              "      <td>Был ли человек в железной маске? Остров Сент-М...</td>\n",
              "      <td>True</td>\n",
              "    </tr>\n",
              "    <tr>\n",
              "      <th>...</th>\n",
              "      <td>...</td>\n",
              "      <td>...</td>\n",
              "    </tr>\n",
              "    <tr>\n",
              "      <th>800</th>\n",
              "      <td>Была ли у джихангира наложница? Хюрре́м Хасеки...</td>\n",
              "      <td>True</td>\n",
              "    </tr>\n",
              "    <tr>\n",
              "      <th>801</th>\n",
              "      <td>Правда ли у животных нет групп крови? Гру́ппа ...</td>\n",
              "      <td>False</td>\n",
              "    </tr>\n",
              "    <tr>\n",
              "      <th>802</th>\n",
              "      <td>Все ли погибли на титанике? Элизабет Глэдис Ми...</td>\n",
              "      <td>True</td>\n",
              "    </tr>\n",
              "    <tr>\n",
              "      <th>803</th>\n",
              "      <td>Есть ли в хлебе белок? Эта статья о группе бел...</td>\n",
              "      <td>True</td>\n",
              "    </tr>\n",
              "    <tr>\n",
              "      <th>804</th>\n",
              "      <td>Правда ли астану переименовали? Нур-Султа́н  —...</td>\n",
              "      <td>True</td>\n",
              "    </tr>\n",
              "  </tbody>\n",
              "</table>\n",
              "<p>805 rows × 2 columns</p>\n",
              "</div>\n",
              "      <button class=\"colab-df-convert\" onclick=\"convertToInteractive('df-4573eccf-847b-408f-b8de-0c312be0e56b')\"\n",
              "              title=\"Convert this dataframe to an interactive table.\"\n",
              "              style=\"display:none;\">\n",
              "        \n",
              "  <svg xmlns=\"http://www.w3.org/2000/svg\" height=\"24px\"viewBox=\"0 0 24 24\"\n",
              "       width=\"24px\">\n",
              "    <path d=\"M0 0h24v24H0V0z\" fill=\"none\"/>\n",
              "    <path d=\"M18.56 5.44l.94 2.06.94-2.06 2.06-.94-2.06-.94-.94-2.06-.94 2.06-2.06.94zm-11 1L8.5 8.5l.94-2.06 2.06-.94-2.06-.94L8.5 2.5l-.94 2.06-2.06.94zm10 10l.94 2.06.94-2.06 2.06-.94-2.06-.94-.94-2.06-.94 2.06-2.06.94z\"/><path d=\"M17.41 7.96l-1.37-1.37c-.4-.4-.92-.59-1.43-.59-.52 0-1.04.2-1.43.59L10.3 9.45l-7.72 7.72c-.78.78-.78 2.05 0 2.83L4 21.41c.39.39.9.59 1.41.59.51 0 1.02-.2 1.41-.59l7.78-7.78 2.81-2.81c.8-.78.8-2.07 0-2.86zM5.41 20L4 18.59l7.72-7.72 1.47 1.35L5.41 20z\"/>\n",
              "  </svg>\n",
              "      </button>\n",
              "      \n",
              "  <style>\n",
              "    .colab-df-container {\n",
              "      display:flex;\n",
              "      flex-wrap:wrap;\n",
              "      gap: 12px;\n",
              "    }\n",
              "\n",
              "    .colab-df-convert {\n",
              "      background-color: #E8F0FE;\n",
              "      border: none;\n",
              "      border-radius: 50%;\n",
              "      cursor: pointer;\n",
              "      display: none;\n",
              "      fill: #1967D2;\n",
              "      height: 32px;\n",
              "      padding: 0 0 0 0;\n",
              "      width: 32px;\n",
              "    }\n",
              "\n",
              "    .colab-df-convert:hover {\n",
              "      background-color: #E2EBFA;\n",
              "      box-shadow: 0px 1px 2px rgba(60, 64, 67, 0.3), 0px 1px 3px 1px rgba(60, 64, 67, 0.15);\n",
              "      fill: #174EA6;\n",
              "    }\n",
              "\n",
              "    [theme=dark] .colab-df-convert {\n",
              "      background-color: #3B4455;\n",
              "      fill: #D2E3FC;\n",
              "    }\n",
              "\n",
              "    [theme=dark] .colab-df-convert:hover {\n",
              "      background-color: #434B5C;\n",
              "      box-shadow: 0px 1px 3px 1px rgba(0, 0, 0, 0.15);\n",
              "      filter: drop-shadow(0px 1px 2px rgba(0, 0, 0, 0.3));\n",
              "      fill: #FFFFFF;\n",
              "    }\n",
              "  </style>\n",
              "\n",
              "      <script>\n",
              "        const buttonEl =\n",
              "          document.querySelector('#df-4573eccf-847b-408f-b8de-0c312be0e56b button.colab-df-convert');\n",
              "        buttonEl.style.display =\n",
              "          google.colab.kernel.accessAllowed ? 'block' : 'none';\n",
              "\n",
              "        async function convertToInteractive(key) {\n",
              "          const element = document.querySelector('#df-4573eccf-847b-408f-b8de-0c312be0e56b');\n",
              "          const dataTable =\n",
              "            await google.colab.kernel.invokeFunction('convertToInteractive',\n",
              "                                                     [key], {});\n",
              "          if (!dataTable) return;\n",
              "\n",
              "          const docLinkHtml = 'Like what you see? Visit the ' +\n",
              "            '<a target=\"_blank\" href=https://colab.research.google.com/notebooks/data_table.ipynb>data table notebook</a>'\n",
              "            + ' to learn more about interactive tables.';\n",
              "          element.innerHTML = '';\n",
              "          dataTable['output_type'] = 'display_data';\n",
              "          await google.colab.output.renderOutput(dataTable, element);\n",
              "          const docLink = document.createElement('div');\n",
              "          docLink.innerHTML = docLinkHtml;\n",
              "          element.appendChild(docLink);\n",
              "        }\n",
              "      </script>\n",
              "    </div>\n",
              "  </div>\n",
              "  "
            ]
          },
          "metadata": {},
          "execution_count": 187
        }
      ]
    },
    {
      "cell_type": "code",
      "source": [
        "#библиотека упаковки объектов\n",
        "import pickle\n",
        "\n",
        "with open(PREFIX + 'DaNetQA_text_classifier', 'wb') as picklefile:\n",
        "  pickle.dump(rndgs_clf_LogitReg, picklefile)"
      ],
      "metadata": {
        "id": "KhX7-sgKQ2hZ"
      },
      "execution_count": 189,
      "outputs": []
    }
  ]
}