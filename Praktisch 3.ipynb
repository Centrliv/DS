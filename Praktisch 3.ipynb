{
  "nbformat": 4,
  "nbformat_minor": 0,
  "metadata": {
    "colab": {
      "name": "iris.ipynb",
      "provenance": [],
      "collapsed_sections": [],
      "authorship_tag": "ABX9TyP5mxg+9vYhNmuJ5POYsTq1"
    },
    "kernelspec": {
      "name": "python3",
      "display_name": "Python 3"
    },
    "language_info": {
      "name": "python"
    }
  },
  "cells": [
    {
      "cell_type": "code",
      "execution_count": null,
      "metadata": {
        "id": "2h-amfDUSeYl"
      },
      "outputs": [],
      "source": [
        "!apt-get update"
      ]
    },
    {
      "cell_type": "code",
      "source": [
        "!apt-get install openjdk-8-jdk-headless -qq > /dev/null"
      ],
      "metadata": {
        "id": "j8HCEX-xSe7S"
      },
      "execution_count": 2,
      "outputs": []
    },
    {
      "cell_type": "code",
      "source": [
        "!wget -q https://mirror.linux-ia64.org/apache/spark/spark-3.0.3/spark-3.0.3-bin-hadoop2.7.tgz"
      ],
      "metadata": {
        "id": "nlCrHmW1Slyr"
      },
      "execution_count": 4,
      "outputs": []
    },
    {
      "cell_type": "code",
      "source": [
        "!tar -xvf spark-3.0.3-bin-hadoop2.7.tgz"
      ],
      "metadata": {
        "id": "vocI_ZyP5ZGp"
      },
      "execution_count": null,
      "outputs": []
    },
    {
      "cell_type": "code",
      "source": [
        "!pip install -q findspark"
      ],
      "metadata": {
        "id": "PNHZLcxZ5l2_"
      },
      "execution_count": 6,
      "outputs": []
    },
    {
      "cell_type": "code",
      "source": [
        "import os\n",
        "os.environ[\"JAVA_HOME\"] = \"/usr/lib/jvm/java-8-openjdk-amd64\"\n",
        "os.environ[\"SPARK_HOME\"] = \"/content/spark-3.0.3-bin-hadoop2.7\""
      ],
      "metadata": {
        "id": "QB0Vsh0q5qqP"
      },
      "execution_count": 7,
      "outputs": []
    },
    {
      "cell_type": "code",
      "source": [
        "import findspark\n",
        "findspark.init()\n",
        "from pyspark.sql import SparkSession\n",
        "\n",
        "spark = SparkSession.builder.master(\"local[*]\").getOrCreate()\n",
        "sc = spark.sparkContext"
      ],
      "metadata": {
        "id": "-ap0Wu2r5rsf"
      },
      "execution_count": 8,
      "outputs": []
    },
    {
      "cell_type": "code",
      "source": [
        "!wget https://datahub.io/machine-learning/iris/r/iris.csv"
      ],
      "metadata": {
        "id": "bZo9fBx45xCh"
      },
      "execution_count": null,
      "outputs": []
    },
    {
      "cell_type": "code",
      "source": [
        "df = spark.read.csv('iris.csv', inferSchema=True, header=True)"
      ],
      "metadata": {
        "id": "5ymr2KC854Wl"
      },
      "execution_count": 10,
      "outputs": []
    },
    {
      "cell_type": "code",
      "source": [
        "df.describe().show()"
      ],
      "metadata": {
        "colab": {
          "base_uri": "https://localhost:8080/"
        },
        "id": "sIp3fdKZ5_Q9",
        "outputId": "501d3d6d-9c55-479b-88eb-da10b61911ff"
      },
      "execution_count": 11,
      "outputs": [
        {
          "output_type": "stream",
          "name": "stdout",
          "text": [
            "+-------+------------------+-------------------+------------------+------------------+--------------+\n",
            "|summary|       sepallength|         sepalwidth|       petallength|        petalwidth|         class|\n",
            "+-------+------------------+-------------------+------------------+------------------+--------------+\n",
            "|  count|               150|                150|               150|               150|           150|\n",
            "|   mean| 5.843333333333335| 3.0540000000000007|3.7586666666666693|1.1986666666666672|          null|\n",
            "| stddev|0.8280661279778637|0.43359431136217375| 1.764420419952262|0.7631607417008414|          null|\n",
            "|    min|               4.3|                2.0|               1.0|               0.1|   Iris-setosa|\n",
            "|    max|               7.9|                4.4|               6.9|               2.5|Iris-virginica|\n",
            "+-------+------------------+-------------------+------------------+------------------+--------------+\n",
            "\n"
          ]
        }
      ]
    },
    {
      "cell_type": "code",
      "source": [
        "from pyspark.ml.feature import StringIndexer, OneHotEncoder"
      ],
      "metadata": {
        "id": "MMae4VlR6CRd"
      },
      "execution_count": 14,
      "outputs": []
    },
    {
      "cell_type": "code",
      "source": [
        "indexer = StringIndexer(inputCol='class', outputCol='classInd')\n",
        "indexerTrained = indexer.fit(df)\n",
        "df_features = indexerTrained.transform(df)\n",
        "indexerTrained.labels"
      ],
      "metadata": {
        "colab": {
          "base_uri": "https://localhost:8080/"
        },
        "id": "cp41MIgkH1S8",
        "outputId": "4243519f-adec-4122-a910-d1e967a4e77c"
      },
      "execution_count": 17,
      "outputs": [
        {
          "output_type": "execute_result",
          "data": {
            "text/plain": [
              "['Iris-setosa', 'Iris-versicolor', 'Iris-virginica']"
            ]
          },
          "metadata": {},
          "execution_count": 17
        }
      ]
    },
    {
      "cell_type": "code",
      "source": [
        "train, test = df_features.randomSplit([0.7, 0.3], seed=2022)"
      ],
      "metadata": {
        "id": "sW9Jpox7H1IU"
      },
      "execution_count": 97,
      "outputs": []
    },
    {
      "cell_type": "code",
      "source": [
        "from pyspark.ml import Pipeline\n",
        "from pyspark.ml.linalg import Vectors\n",
        "from pyspark.ml.feature import VectorAssembler"
      ],
      "metadata": {
        "id": "HAzgRtfUJaTH"
      },
      "execution_count": 98,
      "outputs": []
    },
    {
      "cell_type": "code",
      "source": [
        "train.show()"
      ],
      "metadata": {
        "colab": {
          "base_uri": "https://localhost:8080/"
        },
        "id": "C7QD8T2VJzRL",
        "outputId": "9906eb05-2002-4a6f-a7eb-b2f9cabcbda5"
      },
      "execution_count": 99,
      "outputs": [
        {
          "output_type": "stream",
          "name": "stdout",
          "text": [
            "+-----------+----------+-----------+----------+---------------+--------+-------------+--------------------+\n",
            "|sepallength|sepalwidth|petallength|petalwidth|          class|classInd|     classOne|            Features|\n",
            "+-----------+----------+-----------+----------+---------------+--------+-------------+--------------------+\n",
            "|        4.3|       3.0|        1.1|       0.1|    Iris-setosa|     0.0|(2,[0],[1.0])|[4.3,3.0,1.1,0.1,...|\n",
            "|        4.4|       3.2|        1.3|       0.2|    Iris-setosa|     0.0|(2,[0],[1.0])|[4.4,3.2,1.3,0.2,...|\n",
            "|        4.5|       2.3|        1.3|       0.3|    Iris-setosa|     0.0|(2,[0],[1.0])|[4.5,2.3,1.3,0.3,...|\n",
            "|        4.6|       3.1|        1.5|       0.2|    Iris-setosa|     0.0|(2,[0],[1.0])|[4.6,3.1,1.5,0.2,...|\n",
            "|        4.6|       3.6|        1.0|       0.2|    Iris-setosa|     0.0|(2,[0],[1.0])|[4.6,3.6,1.0,0.2,...|\n",
            "|        4.7|       3.2|        1.3|       0.2|    Iris-setosa|     0.0|(2,[0],[1.0])|[4.7,3.2,1.3,0.2,...|\n",
            "|        4.8|       3.1|        1.6|       0.2|    Iris-setosa|     0.0|(2,[0],[1.0])|[4.8,3.1,1.6,0.2,...|\n",
            "|        4.8|       3.4|        1.6|       0.2|    Iris-setosa|     0.0|(2,[0],[1.0])|[4.8,3.4,1.6,0.2,...|\n",
            "|        4.8|       3.4|        1.9|       0.2|    Iris-setosa|     0.0|(2,[0],[1.0])|[4.8,3.4,1.9,0.2,...|\n",
            "|        4.9|       2.4|        3.3|       1.0|Iris-versicolor|     1.0|(2,[1],[1.0])|[4.9,2.4,3.3,1.0,...|\n",
            "|        4.9|       2.5|        4.5|       1.7| Iris-virginica|     2.0|    (2,[],[])|[4.9,2.5,4.5,1.7,...|\n",
            "|        4.9|       3.1|        1.5|       0.1|    Iris-setosa|     0.0|(2,[0],[1.0])|[4.9,3.1,1.5,0.1,...|\n",
            "|        5.0|       2.0|        3.5|       1.0|Iris-versicolor|     1.0|(2,[1],[1.0])|[5.0,2.0,3.5,1.0,...|\n",
            "|        5.0|       2.3|        3.3|       1.0|Iris-versicolor|     1.0|(2,[1],[1.0])|[5.0,2.3,3.3,1.0,...|\n",
            "|        5.0|       3.0|        1.6|       0.2|    Iris-setosa|     0.0|(2,[0],[1.0])|[5.0,3.0,1.6,0.2,...|\n",
            "|        5.0|       3.2|        1.2|       0.2|    Iris-setosa|     0.0|(2,[0],[1.0])|[5.0,3.2,1.2,0.2,...|\n",
            "|        5.0|       3.3|        1.4|       0.2|    Iris-setosa|     0.0|(2,[0],[1.0])|[5.0,3.3,1.4,0.2,...|\n",
            "|        5.0|       3.4|        1.6|       0.4|    Iris-setosa|     0.0|(2,[0],[1.0])|[5.0,3.4,1.6,0.4,...|\n",
            "|        5.1|       2.5|        3.0|       1.1|Iris-versicolor|     1.0|(2,[1],[1.0])|[5.1,2.5,3.0,1.1,...|\n",
            "|        5.1|       3.3|        1.7|       0.5|    Iris-setosa|     0.0|(2,[0],[1.0])|[5.1,3.3,1.7,0.5,...|\n",
            "+-----------+----------+-----------+----------+---------------+--------+-------------+--------------------+\n",
            "only showing top 20 rows\n",
            "\n"
          ]
        }
      ]
    },
    {
      "cell_type": "code",
      "source": [
        "assembler=VectorAssembler(inputCols=['sepallength', 'sepalwidth', 'petallength', 'classInd'], outputCol='Features')"
      ],
      "metadata": {
        "id": "rGq10ErDJv_E"
      },
      "execution_count": 100,
      "outputs": []
    },
    {
      "cell_type": "code",
      "source": [
        "from pyspark.ml import Pipeline"
      ],
      "metadata": {
        "id": "QZMV5mKGKHog"
      },
      "execution_count": 101,
      "outputs": []
    },
    {
      "cell_type": "code",
      "source": [
        "pipeline = Pipeline(stages = \n",
        "[\n",
        "  StringIndexer(inputCol='class', outputCol='classInd'),\n",
        "  OneHotEncoder(inputCol='classInd', outputCol = 'classOne'),\n",
        "  VectorAssembler(inputCols=['sepallength', 'sepalwidth', 'petallength', 'petalwidth', 'classInd', 'classOne'], outputCol='Features')\n",
        "]\n",
        ")"
      ],
      "metadata": {
        "id": "R4K2Y1DJKKFY"
      },
      "execution_count": 102,
      "outputs": []
    },
    {
      "cell_type": "code",
      "source": [
        "pipelineTrained = pipeline.fit(df)\n",
        "pipelineTrained.transform(df).show()"
      ],
      "metadata": {
        "colab": {
          "base_uri": "https://localhost:8080/"
        },
        "id": "7n0aKaqDMBp8",
        "outputId": "c6527f36-c20d-49e4-c31a-083880484fa5"
      },
      "execution_count": 103,
      "outputs": [
        {
          "output_type": "stream",
          "name": "stdout",
          "text": [
            "+-----------+----------+-----------+----------+-----------+--------+-------------+--------------------+\n",
            "|sepallength|sepalwidth|petallength|petalwidth|      class|classInd|     classOne|            Features|\n",
            "+-----------+----------+-----------+----------+-----------+--------+-------------+--------------------+\n",
            "|        5.1|       3.5|        1.4|       0.2|Iris-setosa|     0.0|(2,[0],[1.0])|[5.1,3.5,1.4,0.2,...|\n",
            "|        4.9|       3.0|        1.4|       0.2|Iris-setosa|     0.0|(2,[0],[1.0])|[4.9,3.0,1.4,0.2,...|\n",
            "|        4.7|       3.2|        1.3|       0.2|Iris-setosa|     0.0|(2,[0],[1.0])|[4.7,3.2,1.3,0.2,...|\n",
            "|        4.6|       3.1|        1.5|       0.2|Iris-setosa|     0.0|(2,[0],[1.0])|[4.6,3.1,1.5,0.2,...|\n",
            "|        5.0|       3.6|        1.4|       0.2|Iris-setosa|     0.0|(2,[0],[1.0])|[5.0,3.6,1.4,0.2,...|\n",
            "|        5.4|       3.9|        1.7|       0.4|Iris-setosa|     0.0|(2,[0],[1.0])|[5.4,3.9,1.7,0.4,...|\n",
            "|        4.6|       3.4|        1.4|       0.3|Iris-setosa|     0.0|(2,[0],[1.0])|[4.6,3.4,1.4,0.3,...|\n",
            "|        5.0|       3.4|        1.5|       0.2|Iris-setosa|     0.0|(2,[0],[1.0])|[5.0,3.4,1.5,0.2,...|\n",
            "|        4.4|       2.9|        1.4|       0.2|Iris-setosa|     0.0|(2,[0],[1.0])|[4.4,2.9,1.4,0.2,...|\n",
            "|        4.9|       3.1|        1.5|       0.1|Iris-setosa|     0.0|(2,[0],[1.0])|[4.9,3.1,1.5,0.1,...|\n",
            "|        5.4|       3.7|        1.5|       0.2|Iris-setosa|     0.0|(2,[0],[1.0])|[5.4,3.7,1.5,0.2,...|\n",
            "|        4.8|       3.4|        1.6|       0.2|Iris-setosa|     0.0|(2,[0],[1.0])|[4.8,3.4,1.6,0.2,...|\n",
            "|        4.8|       3.0|        1.4|       0.1|Iris-setosa|     0.0|(2,[0],[1.0])|[4.8,3.0,1.4,0.1,...|\n",
            "|        4.3|       3.0|        1.1|       0.1|Iris-setosa|     0.0|(2,[0],[1.0])|[4.3,3.0,1.1,0.1,...|\n",
            "|        5.8|       4.0|        1.2|       0.2|Iris-setosa|     0.0|(2,[0],[1.0])|[5.8,4.0,1.2,0.2,...|\n",
            "|        5.7|       4.4|        1.5|       0.4|Iris-setosa|     0.0|(2,[0],[1.0])|[5.7,4.4,1.5,0.4,...|\n",
            "|        5.4|       3.9|        1.3|       0.4|Iris-setosa|     0.0|(2,[0],[1.0])|[5.4,3.9,1.3,0.4,...|\n",
            "|        5.1|       3.5|        1.4|       0.3|Iris-setosa|     0.0|(2,[0],[1.0])|[5.1,3.5,1.4,0.3,...|\n",
            "|        5.7|       3.8|        1.7|       0.3|Iris-setosa|     0.0|(2,[0],[1.0])|[5.7,3.8,1.7,0.3,...|\n",
            "|        5.1|       3.8|        1.5|       0.3|Iris-setosa|     0.0|(2,[0],[1.0])|[5.1,3.8,1.5,0.3,...|\n",
            "+-----------+----------+-----------+----------+-----------+--------+-------------+--------------------+\n",
            "only showing top 20 rows\n",
            "\n"
          ]
        }
      ]
    },
    {
      "cell_type": "code",
      "source": [
        "df_features = pipelineTrained.transform(df)\n",
        "train, test = df_features.randomSplit([0.7, 0.3], seed=2022)\n",
        "train.show()"
      ],
      "metadata": {
        "colab": {
          "base_uri": "https://localhost:8080/"
        },
        "id": "JxNXlZ9JMR_y",
        "outputId": "f296eb24-e487-4eb1-f916-79cbab0132e3"
      },
      "execution_count": 104,
      "outputs": [
        {
          "output_type": "stream",
          "name": "stdout",
          "text": [
            "+-----------+----------+-----------+----------+---------------+--------+-------------+--------------------+\n",
            "|sepallength|sepalwidth|petallength|petalwidth|          class|classInd|     classOne|            Features|\n",
            "+-----------+----------+-----------+----------+---------------+--------+-------------+--------------------+\n",
            "|        4.3|       3.0|        1.1|       0.1|    Iris-setosa|     0.0|(2,[0],[1.0])|[4.3,3.0,1.1,0.1,...|\n",
            "|        4.4|       3.2|        1.3|       0.2|    Iris-setosa|     0.0|(2,[0],[1.0])|[4.4,3.2,1.3,0.2,...|\n",
            "|        4.5|       2.3|        1.3|       0.3|    Iris-setosa|     0.0|(2,[0],[1.0])|[4.5,2.3,1.3,0.3,...|\n",
            "|        4.6|       3.1|        1.5|       0.2|    Iris-setosa|     0.0|(2,[0],[1.0])|[4.6,3.1,1.5,0.2,...|\n",
            "|        4.6|       3.6|        1.0|       0.2|    Iris-setosa|     0.0|(2,[0],[1.0])|[4.6,3.6,1.0,0.2,...|\n",
            "|        4.7|       3.2|        1.3|       0.2|    Iris-setosa|     0.0|(2,[0],[1.0])|[4.7,3.2,1.3,0.2,...|\n",
            "|        4.8|       3.1|        1.6|       0.2|    Iris-setosa|     0.0|(2,[0],[1.0])|[4.8,3.1,1.6,0.2,...|\n",
            "|        4.8|       3.4|        1.6|       0.2|    Iris-setosa|     0.0|(2,[0],[1.0])|[4.8,3.4,1.6,0.2,...|\n",
            "|        4.8|       3.4|        1.9|       0.2|    Iris-setosa|     0.0|(2,[0],[1.0])|[4.8,3.4,1.9,0.2,...|\n",
            "|        4.9|       2.4|        3.3|       1.0|Iris-versicolor|     1.0|(2,[1],[1.0])|[4.9,2.4,3.3,1.0,...|\n",
            "|        4.9|       2.5|        4.5|       1.7| Iris-virginica|     2.0|    (2,[],[])|[4.9,2.5,4.5,1.7,...|\n",
            "|        4.9|       3.1|        1.5|       0.1|    Iris-setosa|     0.0|(2,[0],[1.0])|[4.9,3.1,1.5,0.1,...|\n",
            "|        5.0|       2.0|        3.5|       1.0|Iris-versicolor|     1.0|(2,[1],[1.0])|[5.0,2.0,3.5,1.0,...|\n",
            "|        5.0|       2.3|        3.3|       1.0|Iris-versicolor|     1.0|(2,[1],[1.0])|[5.0,2.3,3.3,1.0,...|\n",
            "|        5.0|       3.0|        1.6|       0.2|    Iris-setosa|     0.0|(2,[0],[1.0])|[5.0,3.0,1.6,0.2,...|\n",
            "|        5.0|       3.2|        1.2|       0.2|    Iris-setosa|     0.0|(2,[0],[1.0])|[5.0,3.2,1.2,0.2,...|\n",
            "|        5.0|       3.3|        1.4|       0.2|    Iris-setosa|     0.0|(2,[0],[1.0])|[5.0,3.3,1.4,0.2,...|\n",
            "|        5.0|       3.4|        1.6|       0.4|    Iris-setosa|     0.0|(2,[0],[1.0])|[5.0,3.4,1.6,0.4,...|\n",
            "|        5.1|       2.5|        3.0|       1.1|Iris-versicolor|     1.0|(2,[1],[1.0])|[5.1,2.5,3.0,1.1,...|\n",
            "|        5.1|       3.3|        1.7|       0.5|    Iris-setosa|     0.0|(2,[0],[1.0])|[5.1,3.3,1.7,0.5,...|\n",
            "+-----------+----------+-----------+----------+---------------+--------+-------------+--------------------+\n",
            "only showing top 20 rows\n",
            "\n"
          ]
        }
      ]
    },
    {
      "cell_type": "code",
      "source": [
        "from pyspark.ml.classification import LogisticRegression"
      ],
      "metadata": {
        "id": "HLrgbfZOMnXX"
      },
      "execution_count": 105,
      "outputs": []
    },
    {
      "cell_type": "code",
      "source": [
        "lr = LogisticRegression(featuresCol = 'Features', labelCol = 'classInd')\n",
        "lrModel = lr.fit(train)"
      ],
      "metadata": {
        "id": "DDwxT_9LMpGu"
      },
      "execution_count": 108,
      "outputs": []
    },
    {
      "cell_type": "code",
      "source": [
        "train_res = lrModel.transform(train)\n",
        "test_res = lrModel.transform(test)"
      ],
      "metadata": {
        "id": "nXwJlOVuPmLs"
      },
      "execution_count": 109,
      "outputs": []
    },
    {
      "cell_type": "code",
      "source": [
        "train_res.show()"
      ],
      "metadata": {
        "colab": {
          "base_uri": "https://localhost:8080/"
        },
        "id": "d9a_FutCPoa0",
        "outputId": "3ee3f551-424e-4b5e-8f38-5e212a7a9cda"
      },
      "execution_count": 110,
      "outputs": [
        {
          "output_type": "stream",
          "name": "stdout",
          "text": [
            "+-----------+----------+-----------+----------+---------------+--------+-------------+--------------------+--------------------+--------------------+----------+\n",
            "|sepallength|sepalwidth|petallength|petalwidth|          class|classInd|     classOne|            Features|       rawPrediction|         probability|prediction|\n",
            "+-----------+----------+-----------+----------+---------------+--------+-------------+--------------------+--------------------+--------------------+----------+\n",
            "|        4.3|       3.0|        1.1|       0.1|    Iris-setosa|     0.0|(2,[0],[1.0])|[4.3,3.0,1.1,0.1,...|[24.5076767416919...|[0.99999999999994...|       0.0|\n",
            "|        4.4|       3.2|        1.3|       0.2|    Iris-setosa|     0.0|(2,[0],[1.0])|[4.4,3.2,1.3,0.2,...|[25.0833460200028...|[0.99999999999997...|       0.0|\n",
            "|        4.5|       2.3|        1.3|       0.3|    Iris-setosa|     0.0|(2,[0],[1.0])|[4.5,2.3,1.3,0.3,...|[15.6840751647897...|[0.99999999580516...|       0.0|\n",
            "|        4.6|       3.1|        1.5|       0.2|    Iris-setosa|     0.0|(2,[0],[1.0])|[4.6,3.1,1.5,0.2,...|[23.0663772496485...|[0.99999999999965...|       0.0|\n",
            "|        4.6|       3.6|        1.0|       0.2|    Iris-setosa|     0.0|(2,[0],[1.0])|[4.6,3.6,1.0,0.2,...|[29.0458964315267...|[0.99999999999999...|       0.0|\n",
            "|        4.7|       3.2|        1.3|       0.2|    Iris-setosa|     0.0|(2,[0],[1.0])|[4.7,3.2,1.3,0.2,...|[24.2186719344127...|[0.99999999999991...|       0.0|\n",
            "|        4.8|       3.1|        1.6|       0.2|    Iris-setosa|     0.0|(2,[0],[1.0])|[4.8,3.1,1.6,0.2,...|[22.2453123156699...|[0.99999999999887...|       0.0|\n",
            "|        4.8|       3.4|        1.6|       0.2|    Iris-setosa|     0.0|(2,[0],[1.0])|[4.8,3.4,1.6,0.2,...|[25.0991771940411...|[0.99999999999997...|       0.0|\n",
            "|        4.8|       3.4|        1.9|       0.2|    Iris-setosa|     0.0|(2,[0],[1.0])|[4.8,3.4,1.9,0.2,...|[24.3653305632855...|[0.99999999999993...|       0.0|\n",
            "|        4.9|       2.4|        3.3|       1.0|Iris-versicolor|     1.0|(2,[1],[1.0])|[4.9,2.4,3.3,1.0,...|[-14.640274484550...|[8.70283268687210...|       1.0|\n",
            "|        4.9|       2.5|        4.5|       1.7| Iris-virginica|     2.0|    (2,[],[])|[4.9,2.5,4.5,1.7,...|[-20.884867470634...|[1.91626064755647...|       2.0|\n",
            "|        4.9|       3.1|        1.5|       0.1|    Iris-setosa|     0.0|(2,[0],[1.0])|[4.9,3.1,1.5,0.1,...|[22.7511546889612...|[0.99999999999927...|       0.0|\n",
            "|        5.0|       2.0|        3.5|       1.0|Iris-versicolor|     1.0|(2,[1],[1.0])|[5.0,2.0,3.5,1.0,...|[-19.222883438079...|[2.24496942836447...|       1.0|\n",
            "|        5.0|       2.3|        3.3|       1.0|Iris-versicolor|     1.0|(2,[1],[1.0])|[5.0,2.3,3.3,1.0,...|[-15.879787472537...|[1.63579686412796...|       1.0|\n",
            "|        5.0|       3.0|        1.6|       0.2|    Iris-setosa|     0.0|(2,[0],[1.0])|[5.0,3.0,1.6,0.2,...|[20.7175746324861...|[0.99999999999075...|       0.0|\n",
            "|        5.0|       3.2|        1.2|       0.2|    Iris-setosa|     0.0|(2,[0],[1.0])|[5.0,3.2,1.2,0.2,...|[23.5986133924078...|[0.99999999999975...|       0.0|\n",
            "|        5.0|       3.3|        1.4|       0.2|    Iris-setosa|     0.0|(2,[0],[1.0])|[5.0,3.3,1.4,0.2,...|[24.0606705980278...|[0.99999999999987...|       0.0|\n",
            "|        5.0|       3.4|        1.6|       0.4|    Iris-setosa|     0.0|(2,[0],[1.0])|[5.0,3.4,1.6,0.4,...|[23.4238247538422...|[0.99999999999978...|       0.0|\n",
            "|        5.1|       2.5|        3.0|       1.1|Iris-versicolor|     1.0|(2,[1],[1.0])|[5.1,2.5,3.0,1.1,...|[-14.081040476300...|[1.68643822627002...|       1.0|\n",
            "|        5.1|       3.3|        1.7|       0.5|    Iris-setosa|     0.0|(2,[0],[1.0])|[5.1,3.3,1.7,0.5,...|[21.3902446973672...|[0.99999999999726...|       0.0|\n",
            "+-----------+----------+-----------+----------+---------------+--------+-------------+--------------------+--------------------+--------------------+----------+\n",
            "only showing top 20 rows\n",
            "\n"
          ]
        }
      ]
    },
    {
      "cell_type": "code",
      "source": [
        "from pyspark.ml.evaluation import MulticlassClassificationEvaluator"
      ],
      "metadata": {
        "id": "_UB4-MNLP4ER"
      },
      "execution_count": 117,
      "outputs": []
    },
    {
      "cell_type": "code",
      "source": [
        "ev = MulticlassClassificationEvaluator(labelCol='classInd')"
      ],
      "metadata": {
        "id": "AEsUNPVCP88A"
      },
      "execution_count": 118,
      "outputs": []
    },
    {
      "cell_type": "code",
      "source": [
        "ev.evaluate(train_res)"
      ],
      "metadata": {
        "colab": {
          "base_uri": "https://localhost:8080/"
        },
        "id": "sg6k-lEpQDu3",
        "outputId": "5a163f28-362e-4f9d-ea9f-061945de899a"
      },
      "execution_count": 119,
      "outputs": [
        {
          "output_type": "execute_result",
          "data": {
            "text/plain": [
              "1.0"
            ]
          },
          "metadata": {},
          "execution_count": 119
        }
      ]
    },
    {
      "cell_type": "code",
      "source": [
        "ev.evaluate(test_res)"
      ],
      "metadata": {
        "colab": {
          "base_uri": "https://localhost:8080/"
        },
        "id": "Sqj88z-rQK62",
        "outputId": "7ccd27e5-d6eb-4ebf-b233-614145c96acd"
      },
      "execution_count": 120,
      "outputs": [
        {
          "output_type": "execute_result",
          "data": {
            "text/plain": [
              "1.0"
            ]
          },
          "metadata": {},
          "execution_count": 120
        }
      ]
    }
  ]
}